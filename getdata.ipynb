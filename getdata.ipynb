{
 "cells": [
  {
   "cell_type": "code",
   "execution_count": null,
   "metadata": {},
   "outputs": [],
   "source": [
    "import requests\n",
    "import json\n",
    "import pandas as pd\n",
    "import time\n",
    "import random\n",
    "import xmltodict\n",
    "import os\n"
   ]
  },
  {
   "cell_type": "code",
   "execution_count": null,
   "metadata": {},
   "outputs": [],
   "source": [
    "conf = open('config.json','r') \n",
    "config = json.load(conf)\n",
    "api_key = config['API_key']\n",
    "conf.close()\n",
    "keyw = open('keywords.txt','r')\n",
    "keywords = keyw.readlines()\n",
    "keyw.close()\n",
    "for index in range(len(keywords)):\n",
    "    keywords[index] = keywords[index].replace('\\n','')\n",
    "print(keywords)\n",
    "Affiliation = 'New Zealand'\n",
    "start = 0\n",
    "count = 25\n",
    "step = 25\n",
    "url = \"https://api.elsevier.com/content/search/scopus\"\n",
    "headers=  {'X-ELS-APIKey':api_key}\n",
    "print(url)\n"
   ]
  },
  {
   "cell_type": "code",
   "execution_count": null,
   "metadata": {},
   "outputs": [],
   "source": [
    "def QueryEdit(url,keyword,Affiliation=None,daterange=None,start = 0,sort = 'citedby-count', count = 25):\n",
    "    url +='?query={}'.format(keyword)\n",
    "    if Affiliation!=None:\n",
    "        url+=\"+AFFIL({})\".format(Affiliation)\n",
    "    url += \"&count={}\".format(count)\n",
    "    url += \"&sort={}\".format(sort)\n",
    "    url += \"&start={}\".format(start)\n",
    "    return url"
   ]
  },
  {
   "cell_type": "code",
   "execution_count": null,
   "metadata": {},
   "outputs": [],
   "source": [
    "def TidyJsontoDf(web_json,paper_info_short,column):\n",
    "    try :\n",
    "        for paper in web_json['search-results']['entry']:\n",
    "            try:\n",
    "                title = paper['dc:title']\n",
    "                autor = paper['dc:creator']\n",
    "                doi = paper['prism:doi']\n",
    "                citedby_count = paper['citedby-count']\n",
    "                affilname = paper['affiliation'][0]['affilname']\n",
    "                affiliation_city = paper['affiliation'][0]['affiliation-city']\n",
    "                affiliation_country = paper['affiliation'][0]['affiliation-country']\n",
    "            except:\n",
    "                continue\n",
    "            paper_data = [[title,autor,doi,citedby_count,affilname,affiliation_city,affiliation_country]]\n",
    "            paper_info = pd.DataFrame(data=paper_data, columns=column)\n",
    "            paper_info_short = pd.concat([paper_info_short,paper_info],ignore_index=True)\n",
    "    except:\n",
    "        pass\n",
    "    return paper_info_short"
   ]
  },
  {
   "cell_type": "code",
   "execution_count": null,
   "metadata": {},
   "outputs": [],
   "source": [
    "def GetAndTidy(keyword,Affiliation = None,url=url, headers = headers,limit = 5000):\n",
    "    url = QueryEdit(url,keyword,Affiliation = Affiliation,count = count)\n",
    "    print(url)\n",
    "    web = requests.get(url,headers=headers)\n",
    "    result = web.text\n",
    "    web_json = json.loads(result)\n",
    "    print(web_json['search-results']['opensearch:totalResults'])\n",
    "    epos = int(web_json['search-results']['opensearch:totalResults']) // step +1\n",
    "    column = ['title','autor','doi','citedby_count','affilname','affiliation-city','affiliation-country']\n",
    "    paper_info_short = pd.DataFrame(columns=column)\n",
    "    paper_info_short = TidyJsontoDf(web_json,paper_info_short,column)\n",
    "    for i in range(1,epos+1):\n",
    "        start = i*25\n",
    "        if start > limit: break\n",
    "        url = \"https://api.elsevier.com/content/search/scopus\"\n",
    "        url = QueryEdit(url,keyword,Affiliation = Affiliation,start = start,count = count)\n",
    "        print(url)\n",
    "        web = requests.get(url,headers=headers)\n",
    "        if(web.ok):\n",
    "            result = web.text\n",
    "            web_json = json.loads(result)\n",
    "            paper_info_short = TidyJsontoDf(web_json,paper_info_short,column)\n",
    "        # time.sleep(random.random())\n",
    "    return paper_info_short\n",
    "\n"
   ]
  },
  {
   "cell_type": "markdown",
   "metadata": {},
   "source": [
    "### Run one keyword"
   ]
  },
  {
   "cell_type": "code",
   "execution_count": null,
   "metadata": {},
   "outputs": [],
   "source": [
    "keyword = 'geothermal'\n",
    "url = \"https://api.elsevier.com/content/search/scopus\"\n",
    "paper_info = GetAndTidy(keyword,url = url)\n",
    "paper_info.info()\n",
    "filepath = 'data/'\n",
    "paper_info.to_csv(filepath+keyword+'.csv',index=False)"
   ]
  },
  {
   "cell_type": "markdown",
   "metadata": {},
   "source": [
    "### Run all keywords"
   ]
  },
  {
   "cell_type": "code",
   "execution_count": null,
   "metadata": {},
   "outputs": [],
   "source": [
    "filepath = 'data/'\n",
    "for keyword in keywords:\n",
    "    url = \"https://api.elsevier.com/content/search/scopus\"\n",
    "    paper_info = GetAndTidy(keyword,url = url)\n",
    "    paper_info.to_csv(filepath+keyword+'.csv',index=False)"
   ]
  },
  {
   "attachments": {},
   "cell_type": "markdown",
   "metadata": {},
   "source": [
    "### NZ Data"
   ]
  },
  {
   "cell_type": "code",
   "execution_count": null,
   "metadata": {},
   "outputs": [],
   "source": [
    "filepath = 'data/NZ/'\n",
    "for keyword in keywords:\n",
    "    url = \"https://api.elsevier.com/content/search/scopus\"\n",
    "    paper_info = GetAndTidy(keyword,Affiliation='New Zealand',limit=500,url = url)\n",
    "    paper_info.to_csv(filepath+keyword+'_NZ.csv',index=False)"
   ]
  },
  {
   "cell_type": "code",
   "execution_count": null,
   "metadata": {},
   "outputs": [],
   "source": [
    "# clean nz data\n",
    "filepath = 'data/NZ/'\n",
    "filelist = os.listdir(filepath)\n",
    "print(filelist)\n",
    "for file in filelist:\n",
    "    df = pd.read_csv(filepath + file)\n",
    "    selected_data = df.query(\" `affiliation-country` == 'New Zealand' \")\n",
    "    selected_data.to_csv(filepath+file,index=False)\n",
    "\n"
   ]
  },
  {
   "cell_type": "code",
   "execution_count": null,
   "metadata": {},
   "outputs": [],
   "source": []
  },
  {
   "attachments": {},
   "cell_type": "markdown",
   "metadata": {},
   "source": [
    "### TEST"
   ]
  },
  {
   "cell_type": "code",
   "execution_count": null,
   "metadata": {},
   "outputs": [],
   "source": [
    "url = \"https://api.elsevier.com/content/search/scopus\"\n",
    "keyword = 'additive manufacturing'\n",
    "url = QueryEdit(url,keyword,Affiliation = None,count = 25)\n",
    "print(url)\n",
    "web = requests.get(url,headers=headers)\n",
    "result = web.text\n",
    "web_json = json.loads(result)\n",
    "print(web_json)"
   ]
  }
 ],
 "metadata": {
  "kernelspec": {
   "display_name": "Python 3.10.6 64-bit",
   "language": "python",
   "name": "python3"
  },
  "language_info": {
   "codemirror_mode": {
    "name": "ipython",
    "version": 3
   },
   "file_extension": ".py",
   "mimetype": "text/x-python",
   "name": "python",
   "nbconvert_exporter": "python",
   "pygments_lexer": "ipython3",
   "version": "3.10.6 (v3.10.6:9c7b4bd164, Aug  1 2022, 17:13:48) [Clang 13.0.0 (clang-1300.0.29.30)]"
  },
  "orig_nbformat": 4,
  "vscode": {
   "interpreter": {
    "hash": "aee8b7b246df8f9039afb4144a1f6fd8d2ca17a180786b69acc140d282b71a49"
   }
  }
 },
 "nbformat": 4,
 "nbformat_minor": 2
}
