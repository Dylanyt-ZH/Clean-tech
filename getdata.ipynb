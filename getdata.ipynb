{
 "cells": [
  {
   "cell_type": "code",
   "execution_count": 2,
   "metadata": {},
   "outputs": [],
   "source": [
    "import requests\n",
    "import json\n",
    "import pandas as pd\n",
    "import time\n",
    "import random"
   ]
  },
  {
   "cell_type": "code",
   "execution_count": 4,
   "metadata": {},
   "outputs": [],
   "source": [
    "def QueryEdit(url,keyword,Affiliation=None,daterange=None,start = 0,sort = 'citedby-count'):\n",
    "    url +='?query={}'.format(keyword)\n",
    "    if Affiliation!=None:\n",
    "        url+=\"+AFFIL({})\".format(Affiliation)\n",
    "    url += \"&count={}\".format(count)\n",
    "    url += \"&sort={}\".format(sort)\n",
    "    url += \"&start={}\".format(start)\n",
    "    return url"
   ]
  },
  {
   "cell_type": "code",
   "execution_count": 10,
   "metadata": {},
   "outputs": [
    {
     "name": "stdout",
     "output_type": "stream",
     "text": [
      "['clean tech', 'clean technology', 'clean-tech', 'clean energy', 'clean-energy', 'carbon emissions', 'energy efficient', 'energy-efficient', 'green energy', 'renewable energy', 'smart home', 'energy efficiency', 'geothermal', 'wastewater treatment', 'carbon emissions']\n",
      "https://api.elsevier.com/content/search/scopus\n"
     ]
    }
   ],
   "source": [
    "conf = open('config.json','r') \n",
    "config = json.load(conf)\n",
    "api_key = config['API_key']\n",
    "conf.close()\n",
    "keyw = open('keywords.txt','r')\n",
    "keywords = keyw.readlines()\n",
    "keyw.close()\n",
    "for index in range(len(keywords)):\n",
    "    keywords[index] = keywords[index].replace('\\n','')\n",
    "print(keywords)\n",
    "Affiliation = 'University of Auckland'\n",
    "start = 0\n",
    "count = 25\n",
    "step = 25\n",
    "url = \"https://api.elsevier.com/content/search/scopus\"\n",
    "headers=  {'X-ELS-APIKey':api_key}\n",
    "print(url)\n"
   ]
  },
  {
   "cell_type": "code",
   "execution_count": 19,
   "metadata": {},
   "outputs": [],
   "source": [
    "def TidyJsontoDf(web_json,paper_info_short,column):\n",
    "    try :\n",
    "        for paper in web_json['search-results']['entry']:\n",
    "            try:\n",
    "                title = paper['dc:title']\n",
    "                autor = paper['dc:creator']\n",
    "                doi = paper['prism:doi']\n",
    "                citedby_count = paper['citedby-count']\n",
    "                affilname = paper['affiliation'][0]['affilname']\n",
    "                affiliation_city = paper['affiliation'][0]['affiliation-city']\n",
    "                affiliation_country = paper['affiliation'][0]['affiliation-country']\n",
    "            except:\n",
    "                continue\n",
    "            paper_data = [[title,autor,doi,citedby_count,affilname,affiliation_city,affiliation_country]]\n",
    "            paper_info = pd.DataFrame(data=paper_data, columns=column)\n",
    "            paper_info_short = pd.concat([paper_info_short,paper_info],ignore_index=True)\n",
    "    except:\n",
    "        pass\n",
    "    return paper_info_short"
   ]
  },
  {
   "cell_type": "code",
   "execution_count": 24,
   "metadata": {},
   "outputs": [],
   "source": [
    "def GetAndTidy(keyword,Affiliation = None,url=url, headers = headers):\n",
    "    url = QueryEdit(url,keyword,Affiliation = None)\n",
    "    print(url)\n",
    "    web = requests.get(url,headers=headers)\n",
    "    result = web.text\n",
    "    web_json = json.loads(result)\n",
    "    epos = int(web_json['search-results']['opensearch:totalResults']) // step +1\n",
    "    column = ['title','autor','doi','citedby_count','affilname','affiliation-city','affiliation-country']\n",
    "    paper_info_short = pd.DataFrame(columns=column)\n",
    "    paper_info_short = TidyJsontoDf(web_json,paper_info_short,column)\n",
    "    for i in range(1,epos+1):\n",
    "        start = i*25\n",
    "        url = \"https://api.elsevier.com/content/search/scopus\"\n",
    "        url = QueryEdit(url,keyword,start = start)\n",
    "        print(url)\n",
    "        web = requests.get(url,headers=headers)\n",
    "        if(web.ok):\n",
    "            result = web.text\n",
    "            web_json = json.loads(result)\n",
    "            paper_info_short = TidyJsontoDf(web_json,paper_info_short,column)\n",
    "        time.sleep(random.random())\n",
    "    return paper_info_short\n",
    "\n"
   ]
  },
  {
   "cell_type": "code",
   "execution_count": 25,
   "metadata": {},
   "outputs": [
    {
     "name": "stdout",
     "output_type": "stream",
     "text": [
      "https://api.elsevier.com/content/search/scopus?query=cleantech&count=25&sort=citedby-count&start=0\n",
      "https://api.elsevier.com/content/search/scopus?query=cleantech&count=25&sort=citedby-count&start=25\n",
      "https://api.elsevier.com/content/search/scopus?query=cleantech&count=25&sort=citedby-count&start=50\n",
      "https://api.elsevier.com/content/search/scopus?query=cleantech&count=25&sort=citedby-count&start=75\n",
      "https://api.elsevier.com/content/search/scopus?query=cleantech&count=25&sort=citedby-count&start=100\n",
      "https://api.elsevier.com/content/search/scopus?query=cleantech&count=25&sort=citedby-count&start=125\n",
      "https://api.elsevier.com/content/search/scopus?query=cleantech&count=25&sort=citedby-count&start=150\n",
      "https://api.elsevier.com/content/search/scopus?query=cleantech&count=25&sort=citedby-count&start=175\n",
      "https://api.elsevier.com/content/search/scopus?query=cleantech&count=25&sort=citedby-count&start=200\n",
      "https://api.elsevier.com/content/search/scopus?query=cleantech&count=25&sort=citedby-count&start=225\n",
      "https://api.elsevier.com/content/search/scopus?query=cleantech&count=25&sort=citedby-count&start=250\n",
      "https://api.elsevier.com/content/search/scopus?query=cleantech&count=25&sort=citedby-count&start=275\n",
      "https://api.elsevier.com/content/search/scopus?query=cleantech&count=25&sort=citedby-count&start=300\n",
      "https://api.elsevier.com/content/search/scopus?query=cleantech&count=25&sort=citedby-count&start=325\n",
      "https://api.elsevier.com/content/search/scopus?query=cleantech&count=25&sort=citedby-count&start=350\n",
      "https://api.elsevier.com/content/search/scopus?query=cleantech&count=25&sort=citedby-count&start=375\n",
      "https://api.elsevier.com/content/search/scopus?query=cleantech&count=25&sort=citedby-count&start=400\n",
      "https://api.elsevier.com/content/search/scopus?query=cleantech&count=25&sort=citedby-count&start=425\n",
      "https://api.elsevier.com/content/search/scopus?query=cleantech&count=25&sort=citedby-count&start=450\n",
      "https://api.elsevier.com/content/search/scopus?query=cleantech&count=25&sort=citedby-count&start=475\n",
      "https://api.elsevier.com/content/search/scopus?query=cleantech&count=25&sort=citedby-count&start=500\n",
      "https://api.elsevier.com/content/search/scopus?query=cleantech&count=25&sort=citedby-count&start=525\n",
      "https://api.elsevier.com/content/search/scopus?query=cleantech&count=25&sort=citedby-count&start=550\n",
      "https://api.elsevier.com/content/search/scopus?query=cleantech&count=25&sort=citedby-count&start=575\n",
      "https://api.elsevier.com/content/search/scopus?query=cleantech&count=25&sort=citedby-count&start=600\n",
      "https://api.elsevier.com/content/search/scopus?query=cleantech&count=25&sort=citedby-count&start=625\n",
      "https://api.elsevier.com/content/search/scopus?query=cleantech&count=25&sort=citedby-count&start=650\n",
      "https://api.elsevier.com/content/search/scopus?query=cleantech&count=25&sort=citedby-count&start=675\n",
      "https://api.elsevier.com/content/search/scopus?query=cleantech&count=25&sort=citedby-count&start=700\n",
      "https://api.elsevier.com/content/search/scopus?query=cleantech&count=25&sort=citedby-count&start=725\n",
      "https://api.elsevier.com/content/search/scopus?query=cleantech&count=25&sort=citedby-count&start=750\n",
      "https://api.elsevier.com/content/search/scopus?query=cleantech&count=25&sort=citedby-count&start=775\n",
      "https://api.elsevier.com/content/search/scopus?query=cleantech&count=25&sort=citedby-count&start=800\n",
      "https://api.elsevier.com/content/search/scopus?query=cleantech&count=25&sort=citedby-count&start=825\n",
      "https://api.elsevier.com/content/search/scopus?query=cleantech&count=25&sort=citedby-count&start=850\n",
      "https://api.elsevier.com/content/search/scopus?query=cleantech&count=25&sort=citedby-count&start=875\n",
      "https://api.elsevier.com/content/search/scopus?query=cleantech&count=25&sort=citedby-count&start=900\n",
      "https://api.elsevier.com/content/search/scopus?query=cleantech&count=25&sort=citedby-count&start=925\n",
      "https://api.elsevier.com/content/search/scopus?query=cleantech&count=25&sort=citedby-count&start=950\n",
      "https://api.elsevier.com/content/search/scopus?query=cleantech&count=25&sort=citedby-count&start=975\n",
      "https://api.elsevier.com/content/search/scopus?query=cleantech&count=25&sort=citedby-count&start=1000\n",
      "https://api.elsevier.com/content/search/scopus?query=cleantech&count=25&sort=citedby-count&start=1025\n",
      "https://api.elsevier.com/content/search/scopus?query=cleantech&count=25&sort=citedby-count&start=1050\n",
      "https://api.elsevier.com/content/search/scopus?query=cleantech&count=25&sort=citedby-count&start=1075\n",
      "https://api.elsevier.com/content/search/scopus?query=cleantech&count=25&sort=citedby-count&start=1100\n",
      "https://api.elsevier.com/content/search/scopus?query=cleantech&count=25&sort=citedby-count&start=1125\n",
      "https://api.elsevier.com/content/search/scopus?query=cleantech&count=25&sort=citedby-count&start=1150\n",
      "https://api.elsevier.com/content/search/scopus?query=cleantech&count=25&sort=citedby-count&start=1175\n",
      "https://api.elsevier.com/content/search/scopus?query=cleantech&count=25&sort=citedby-count&start=1200\n",
      "https://api.elsevier.com/content/search/scopus?query=cleantech&count=25&sort=citedby-count&start=1225\n",
      "https://api.elsevier.com/content/search/scopus?query=cleantech&count=25&sort=citedby-count&start=1250\n",
      "https://api.elsevier.com/content/search/scopus?query=cleantech&count=25&sort=citedby-count&start=1275\n",
      "https://api.elsevier.com/content/search/scopus?query=cleantech&count=25&sort=citedby-count&start=1300\n",
      "https://api.elsevier.com/content/search/scopus?query=cleantech&count=25&sort=citedby-count&start=1325\n",
      "https://api.elsevier.com/content/search/scopus?query=cleantech&count=25&sort=citedby-count&start=1350\n",
      "https://api.elsevier.com/content/search/scopus?query=cleantech&count=25&sort=citedby-count&start=1375\n",
      "https://api.elsevier.com/content/search/scopus?query=cleantech&count=25&sort=citedby-count&start=1400\n",
      "https://api.elsevier.com/content/search/scopus?query=cleantech&count=25&sort=citedby-count&start=1425\n",
      "https://api.elsevier.com/content/search/scopus?query=cleantech&count=25&sort=citedby-count&start=1450\n",
      "https://api.elsevier.com/content/search/scopus?query=cleantech&count=25&sort=citedby-count&start=1475\n",
      "https://api.elsevier.com/content/search/scopus?query=cleantech&count=25&sort=citedby-count&start=1500\n",
      "https://api.elsevier.com/content/search/scopus?query=cleantech&count=25&sort=citedby-count&start=1525\n",
      "https://api.elsevier.com/content/search/scopus?query=cleantech&count=25&sort=citedby-count&start=1550\n",
      "https://api.elsevier.com/content/search/scopus?query=cleantech&count=25&sort=citedby-count&start=1575\n",
      "https://api.elsevier.com/content/search/scopus?query=cleantech&count=25&sort=citedby-count&start=1600\n",
      "https://api.elsevier.com/content/search/scopus?query=cleantech&count=25&sort=citedby-count&start=1625\n",
      "https://api.elsevier.com/content/search/scopus?query=cleantech&count=25&sort=citedby-count&start=1650\n",
      "https://api.elsevier.com/content/search/scopus?query=cleantech&count=25&sort=citedby-count&start=1675\n",
      "https://api.elsevier.com/content/search/scopus?query=cleantech&count=25&sort=citedby-count&start=1700\n",
      "https://api.elsevier.com/content/search/scopus?query=cleantech&count=25&sort=citedby-count&start=1725\n",
      "https://api.elsevier.com/content/search/scopus?query=cleantech&count=25&sort=citedby-count&start=1750\n",
      "https://api.elsevier.com/content/search/scopus?query=cleantech&count=25&sort=citedby-count&start=1775\n",
      "https://api.elsevier.com/content/search/scopus?query=cleantech&count=25&sort=citedby-count&start=1800\n",
      "https://api.elsevier.com/content/search/scopus?query=cleantech&count=25&sort=citedby-count&start=1825\n",
      "https://api.elsevier.com/content/search/scopus?query=cleantech&count=25&sort=citedby-count&start=1850\n",
      "https://api.elsevier.com/content/search/scopus?query=cleantech&count=25&sort=citedby-count&start=1875\n",
      "https://api.elsevier.com/content/search/scopus?query=cleantech&count=25&sort=citedby-count&start=1900\n",
      "https://api.elsevier.com/content/search/scopus?query=cleantech&count=25&sort=citedby-count&start=1925\n",
      "https://api.elsevier.com/content/search/scopus?query=cleantech&count=25&sort=citedby-count&start=1950\n",
      "https://api.elsevier.com/content/search/scopus?query=cleantech&count=25&sort=citedby-count&start=1975\n",
      "https://api.elsevier.com/content/search/scopus?query=cleantech&count=25&sort=citedby-count&start=2000\n",
      "https://api.elsevier.com/content/search/scopus?query=cleantech&count=25&sort=citedby-count&start=2025\n",
      "https://api.elsevier.com/content/search/scopus?query=cleantech&count=25&sort=citedby-count&start=2050\n",
      "https://api.elsevier.com/content/search/scopus?query=cleantech&count=25&sort=citedby-count&start=2075\n",
      "https://api.elsevier.com/content/search/scopus?query=cleantech&count=25&sort=citedby-count&start=2100\n",
      "https://api.elsevier.com/content/search/scopus?query=cleantech&count=25&sort=citedby-count&start=2125\n",
      "https://api.elsevier.com/content/search/scopus?query=cleantech&count=25&sort=citedby-count&start=2150\n",
      "https://api.elsevier.com/content/search/scopus?query=cleantech&count=25&sort=citedby-count&start=2175\n",
      "https://api.elsevier.com/content/search/scopus?query=cleantech&count=25&sort=citedby-count&start=2200\n",
      "https://api.elsevier.com/content/search/scopus?query=cleantech&count=25&sort=citedby-count&start=2225\n",
      "https://api.elsevier.com/content/search/scopus?query=cleantech&count=25&sort=citedby-count&start=2250\n",
      "https://api.elsevier.com/content/search/scopus?query=cleantech&count=25&sort=citedby-count&start=2275\n",
      "https://api.elsevier.com/content/search/scopus?query=cleantech&count=25&sort=citedby-count&start=2300\n",
      "https://api.elsevier.com/content/search/scopus?query=cleantech&count=25&sort=citedby-count&start=2325\n",
      "https://api.elsevier.com/content/search/scopus?query=cleantech&count=25&sort=citedby-count&start=2350\n",
      "https://api.elsevier.com/content/search/scopus?query=cleantech&count=25&sort=citedby-count&start=2375\n",
      "https://api.elsevier.com/content/search/scopus?query=cleantech&count=25&sort=citedby-count&start=2400\n",
      "https://api.elsevier.com/content/search/scopus?query=cleantech&count=25&sort=citedby-count&start=2425\n",
      "https://api.elsevier.com/content/search/scopus?query=cleantech&count=25&sort=citedby-count&start=2450\n",
      "https://api.elsevier.com/content/search/scopus?query=cleantech&count=25&sort=citedby-count&start=2475\n",
      "https://api.elsevier.com/content/search/scopus?query=cleantech&count=25&sort=citedby-count&start=2500\n",
      "https://api.elsevier.com/content/search/scopus?query=cleantech&count=25&sort=citedby-count&start=2525\n",
      "https://api.elsevier.com/content/search/scopus?query=cleantech&count=25&sort=citedby-count&start=2550\n",
      "https://api.elsevier.com/content/search/scopus?query=cleantech&count=25&sort=citedby-count&start=2575\n",
      "https://api.elsevier.com/content/search/scopus?query=cleantech&count=25&sort=citedby-count&start=2600\n",
      "https://api.elsevier.com/content/search/scopus?query=cleantech&count=25&sort=citedby-count&start=2625\n",
      "https://api.elsevier.com/content/search/scopus?query=cleantech&count=25&sort=citedby-count&start=2650\n",
      "https://api.elsevier.com/content/search/scopus?query=cleantech&count=25&sort=citedby-count&start=2675\n",
      "https://api.elsevier.com/content/search/scopus?query=cleantech&count=25&sort=citedby-count&start=2700\n",
      "https://api.elsevier.com/content/search/scopus?query=cleantech&count=25&sort=citedby-count&start=2725\n",
      "https://api.elsevier.com/content/search/scopus?query=cleantech&count=25&sort=citedby-count&start=2750\n",
      "https://api.elsevier.com/content/search/scopus?query=cleantech&count=25&sort=citedby-count&start=2775\n",
      "https://api.elsevier.com/content/search/scopus?query=cleantech&count=25&sort=citedby-count&start=2800\n",
      "https://api.elsevier.com/content/search/scopus?query=cleantech&count=25&sort=citedby-count&start=2825\n",
      "https://api.elsevier.com/content/search/scopus?query=cleantech&count=25&sort=citedby-count&start=2850\n",
      "https://api.elsevier.com/content/search/scopus?query=cleantech&count=25&sort=citedby-count&start=2875\n",
      "https://api.elsevier.com/content/search/scopus?query=cleantech&count=25&sort=citedby-count&start=2900\n",
      "https://api.elsevier.com/content/search/scopus?query=cleantech&count=25&sort=citedby-count&start=2925\n",
      "https://api.elsevier.com/content/search/scopus?query=cleantech&count=25&sort=citedby-count&start=2950\n",
      "https://api.elsevier.com/content/search/scopus?query=cleantech&count=25&sort=citedby-count&start=2975\n",
      "https://api.elsevier.com/content/search/scopus?query=cleantech&count=25&sort=citedby-count&start=3000\n",
      "https://api.elsevier.com/content/search/scopus?query=cleantech&count=25&sort=citedby-count&start=3025\n",
      "https://api.elsevier.com/content/search/scopus?query=cleantech&count=25&sort=citedby-count&start=3050\n",
      "https://api.elsevier.com/content/search/scopus?query=cleantech&count=25&sort=citedby-count&start=3075\n",
      "https://api.elsevier.com/content/search/scopus?query=cleantech&count=25&sort=citedby-count&start=3100\n",
      "https://api.elsevier.com/content/search/scopus?query=cleantech&count=25&sort=citedby-count&start=3125\n",
      "https://api.elsevier.com/content/search/scopus?query=cleantech&count=25&sort=citedby-count&start=3150\n",
      "https://api.elsevier.com/content/search/scopus?query=cleantech&count=25&sort=citedby-count&start=3175\n",
      "https://api.elsevier.com/content/search/scopus?query=cleantech&count=25&sort=citedby-count&start=3200\n",
      "https://api.elsevier.com/content/search/scopus?query=cleantech&count=25&sort=citedby-count&start=3225\n",
      "<class 'pandas.core.frame.DataFrame'>\n",
      "RangeIndex: 2785 entries, 0 to 2784\n",
      "Data columns (total 7 columns):\n",
      " #   Column               Non-Null Count  Dtype \n",
      "---  ------               --------------  ----- \n",
      " 0   title                2785 non-null   object\n",
      " 1   autor                2785 non-null   object\n",
      " 2   doi                  2785 non-null   object\n",
      " 3   citedby_count        2785 non-null   object\n",
      " 4   affilname            2785 non-null   object\n",
      " 5   affiliation-city     2757 non-null   object\n",
      " 6   affiliation-country  2783 non-null   object\n",
      "dtypes: object(7)\n",
      "memory usage: 152.4+ KB\n"
     ]
    }
   ],
   "source": [
    "url = \"https://api.elsevier.com/content/search/scopus\"\n",
    "paper_info = GetAndTidy(keywords[0],url = url)\n"
   ]
  },
  {
   "cell_type": "code",
   "execution_count": 29,
   "metadata": {},
   "outputs": [
    {
     "data": {
      "text/plain": [
       "2776"
      ]
     },
     "execution_count": 29,
     "metadata": {},
     "output_type": "execute_result"
    }
   ],
   "source": [
    "paper_info.head()\n"
   ]
  },
  {
   "cell_type": "code",
   "execution_count": 30,
   "metadata": {},
   "outputs": [
    {
     "data": {
      "text/plain": [
       "2776"
      ]
     },
     "execution_count": 30,
     "metadata": {},
     "output_type": "execute_result"
    }
   ],
   "source": [
    "dois = set(paper_info.doi)\n",
    "len(dois)"
   ]
  },
  {
   "cell_type": "code",
   "execution_count": 178,
   "metadata": {},
   "outputs": [
    {
     "data": {
      "text/plain": [
       "True"
      ]
     },
     "execution_count": 178,
     "metadata": {},
     "output_type": "execute_result"
    }
   ],
   "source": [
    "web = requests.get(url,headers=headers)\n",
    "result = web.text\n",
    "web.ok\n"
   ]
  },
  {
   "cell_type": "code",
   "execution_count": 130,
   "metadata": {},
   "outputs": [
    {
     "data": {
      "text/plain": [
       "'{\"service-error\":{\"status\":{\"statusCode\":\"INVALID_INPUT\",\"statusText\":\"Exceeds the maximum number allowed for the service level\"}}}'"
      ]
     },
     "execution_count": 130,
     "metadata": {},
     "output_type": "execute_result"
    }
   ],
   "source": [
    "result"
   ]
  },
  {
   "cell_type": "code",
   "execution_count": 236,
   "metadata": {},
   "outputs": [
    {
     "name": "stdout",
     "output_type": "stream",
     "text": [
      "3219\n"
     ]
    }
   ],
   "source": [
    "web_json = json.loads(result)\n",
    "print(web_json['search-results']['opensearch:totalResults'])\n",
    "epos = int(web_json['search-results']['opensearch:totalResults']) // 25 +1\n"
   ]
  },
  {
   "cell_type": "code",
   "execution_count": 238,
   "metadata": {},
   "outputs": [
    {
     "name": "stdout",
     "output_type": "stream",
     "text": [
      "https://api.elsevier.com/content/search/scopus?query=cleantech&count=25&sort=citedby-count&start=25\n",
      "True\n",
      "https://api.elsevier.com/content/search/scopus?query=cleantech&count=25&sort=citedby-count&start=50\n",
      "True\n",
      "https://api.elsevier.com/content/search/scopus?query=cleantech&count=25&sort=citedby-count&start=75\n",
      "True\n",
      "https://api.elsevier.com/content/search/scopus?query=cleantech&count=25&sort=citedby-count&start=100\n",
      "True\n",
      "https://api.elsevier.com/content/search/scopus?query=cleantech&count=25&sort=citedby-count&start=125\n",
      "True\n",
      "https://api.elsevier.com/content/search/scopus?query=cleantech&count=25&sort=citedby-count&start=150\n",
      "True\n",
      "https://api.elsevier.com/content/search/scopus?query=cleantech&count=25&sort=citedby-count&start=175\n",
      "True\n",
      "https://api.elsevier.com/content/search/scopus?query=cleantech&count=25&sort=citedby-count&start=200\n",
      "True\n",
      "https://api.elsevier.com/content/search/scopus?query=cleantech&count=25&sort=citedby-count&start=225\n",
      "True\n",
      "https://api.elsevier.com/content/search/scopus?query=cleantech&count=25&sort=citedby-count&start=250\n",
      "True\n",
      "https://api.elsevier.com/content/search/scopus?query=cleantech&count=25&sort=citedby-count&start=275\n",
      "True\n",
      "https://api.elsevier.com/content/search/scopus?query=cleantech&count=25&sort=citedby-count&start=300\n",
      "True\n",
      "https://api.elsevier.com/content/search/scopus?query=cleantech&count=25&sort=citedby-count&start=325\n",
      "True\n",
      "https://api.elsevier.com/content/search/scopus?query=cleantech&count=25&sort=citedby-count&start=350\n",
      "True\n",
      "https://api.elsevier.com/content/search/scopus?query=cleantech&count=25&sort=citedby-count&start=375\n",
      "True\n",
      "https://api.elsevier.com/content/search/scopus?query=cleantech&count=25&sort=citedby-count&start=400\n",
      "True\n",
      "https://api.elsevier.com/content/search/scopus?query=cleantech&count=25&sort=citedby-count&start=425\n",
      "True\n",
      "https://api.elsevier.com/content/search/scopus?query=cleantech&count=25&sort=citedby-count&start=450\n",
      "True\n",
      "https://api.elsevier.com/content/search/scopus?query=cleantech&count=25&sort=citedby-count&start=475\n",
      "True\n",
      "https://api.elsevier.com/content/search/scopus?query=cleantech&count=25&sort=citedby-count&start=500\n",
      "True\n",
      "https://api.elsevier.com/content/search/scopus?query=cleantech&count=25&sort=citedby-count&start=525\n",
      "True\n",
      "https://api.elsevier.com/content/search/scopus?query=cleantech&count=25&sort=citedby-count&start=550\n",
      "True\n",
      "https://api.elsevier.com/content/search/scopus?query=cleantech&count=25&sort=citedby-count&start=575\n",
      "True\n",
      "https://api.elsevier.com/content/search/scopus?query=cleantech&count=25&sort=citedby-count&start=600\n",
      "True\n",
      "https://api.elsevier.com/content/search/scopus?query=cleantech&count=25&sort=citedby-count&start=625\n",
      "True\n",
      "https://api.elsevier.com/content/search/scopus?query=cleantech&count=25&sort=citedby-count&start=650\n",
      "True\n",
      "https://api.elsevier.com/content/search/scopus?query=cleantech&count=25&sort=citedby-count&start=675\n",
      "True\n",
      "https://api.elsevier.com/content/search/scopus?query=cleantech&count=25&sort=citedby-count&start=700\n",
      "True\n",
      "https://api.elsevier.com/content/search/scopus?query=cleantech&count=25&sort=citedby-count&start=725\n",
      "True\n",
      "https://api.elsevier.com/content/search/scopus?query=cleantech&count=25&sort=citedby-count&start=750\n",
      "True\n",
      "https://api.elsevier.com/content/search/scopus?query=cleantech&count=25&sort=citedby-count&start=775\n",
      "True\n",
      "https://api.elsevier.com/content/search/scopus?query=cleantech&count=25&sort=citedby-count&start=800\n",
      "True\n",
      "https://api.elsevier.com/content/search/scopus?query=cleantech&count=25&sort=citedby-count&start=825\n",
      "True\n",
      "https://api.elsevier.com/content/search/scopus?query=cleantech&count=25&sort=citedby-count&start=850\n",
      "True\n",
      "https://api.elsevier.com/content/search/scopus?query=cleantech&count=25&sort=citedby-count&start=875\n",
      "True\n",
      "https://api.elsevier.com/content/search/scopus?query=cleantech&count=25&sort=citedby-count&start=900\n",
      "True\n",
      "https://api.elsevier.com/content/search/scopus?query=cleantech&count=25&sort=citedby-count&start=925\n",
      "True\n",
      "https://api.elsevier.com/content/search/scopus?query=cleantech&count=25&sort=citedby-count&start=950\n",
      "True\n",
      "https://api.elsevier.com/content/search/scopus?query=cleantech&count=25&sort=citedby-count&start=975\n",
      "True\n",
      "https://api.elsevier.com/content/search/scopus?query=cleantech&count=25&sort=citedby-count&start=1000\n",
      "True\n",
      "https://api.elsevier.com/content/search/scopus?query=cleantech&count=25&sort=citedby-count&start=1025\n",
      "True\n",
      "https://api.elsevier.com/content/search/scopus?query=cleantech&count=25&sort=citedby-count&start=1050\n",
      "True\n",
      "https://api.elsevier.com/content/search/scopus?query=cleantech&count=25&sort=citedby-count&start=1075\n",
      "True\n",
      "https://api.elsevier.com/content/search/scopus?query=cleantech&count=25&sort=citedby-count&start=1100\n",
      "True\n",
      "https://api.elsevier.com/content/search/scopus?query=cleantech&count=25&sort=citedby-count&start=1125\n",
      "True\n",
      "https://api.elsevier.com/content/search/scopus?query=cleantech&count=25&sort=citedby-count&start=1150\n",
      "True\n",
      "https://api.elsevier.com/content/search/scopus?query=cleantech&count=25&sort=citedby-count&start=1175\n",
      "True\n",
      "https://api.elsevier.com/content/search/scopus?query=cleantech&count=25&sort=citedby-count&start=1200\n",
      "True\n",
      "https://api.elsevier.com/content/search/scopus?query=cleantech&count=25&sort=citedby-count&start=1225\n",
      "True\n",
      "https://api.elsevier.com/content/search/scopus?query=cleantech&count=25&sort=citedby-count&start=1250\n",
      "True\n",
      "https://api.elsevier.com/content/search/scopus?query=cleantech&count=25&sort=citedby-count&start=1275\n",
      "True\n",
      "https://api.elsevier.com/content/search/scopus?query=cleantech&count=25&sort=citedby-count&start=1300\n",
      "True\n",
      "https://api.elsevier.com/content/search/scopus?query=cleantech&count=25&sort=citedby-count&start=1325\n",
      "True\n",
      "https://api.elsevier.com/content/search/scopus?query=cleantech&count=25&sort=citedby-count&start=1350\n",
      "True\n",
      "https://api.elsevier.com/content/search/scopus?query=cleantech&count=25&sort=citedby-count&start=1375\n",
      "True\n",
      "https://api.elsevier.com/content/search/scopus?query=cleantech&count=25&sort=citedby-count&start=1400\n",
      "True\n",
      "https://api.elsevier.com/content/search/scopus?query=cleantech&count=25&sort=citedby-count&start=1425\n",
      "True\n",
      "https://api.elsevier.com/content/search/scopus?query=cleantech&count=25&sort=citedby-count&start=1450\n",
      "True\n",
      "https://api.elsevier.com/content/search/scopus?query=cleantech&count=25&sort=citedby-count&start=1475\n",
      "True\n",
      "https://api.elsevier.com/content/search/scopus?query=cleantech&count=25&sort=citedby-count&start=1500\n",
      "True\n",
      "https://api.elsevier.com/content/search/scopus?query=cleantech&count=25&sort=citedby-count&start=1525\n",
      "True\n",
      "https://api.elsevier.com/content/search/scopus?query=cleantech&count=25&sort=citedby-count&start=1550\n",
      "True\n",
      "https://api.elsevier.com/content/search/scopus?query=cleantech&count=25&sort=citedby-count&start=1575\n",
      "True\n",
      "https://api.elsevier.com/content/search/scopus?query=cleantech&count=25&sort=citedby-count&start=1600\n",
      "True\n",
      "https://api.elsevier.com/content/search/scopus?query=cleantech&count=25&sort=citedby-count&start=1625\n",
      "True\n",
      "https://api.elsevier.com/content/search/scopus?query=cleantech&count=25&sort=citedby-count&start=1650\n",
      "True\n",
      "https://api.elsevier.com/content/search/scopus?query=cleantech&count=25&sort=citedby-count&start=1675\n",
      "True\n",
      "https://api.elsevier.com/content/search/scopus?query=cleantech&count=25&sort=citedby-count&start=1700\n",
      "True\n",
      "https://api.elsevier.com/content/search/scopus?query=cleantech&count=25&sort=citedby-count&start=1725\n",
      "True\n",
      "https://api.elsevier.com/content/search/scopus?query=cleantech&count=25&sort=citedby-count&start=1750\n",
      "True\n",
      "https://api.elsevier.com/content/search/scopus?query=cleantech&count=25&sort=citedby-count&start=1775\n",
      "True\n",
      "https://api.elsevier.com/content/search/scopus?query=cleantech&count=25&sort=citedby-count&start=1800\n",
      "True\n",
      "https://api.elsevier.com/content/search/scopus?query=cleantech&count=25&sort=citedby-count&start=1825\n",
      "True\n",
      "https://api.elsevier.com/content/search/scopus?query=cleantech&count=25&sort=citedby-count&start=1850\n",
      "True\n",
      "https://api.elsevier.com/content/search/scopus?query=cleantech&count=25&sort=citedby-count&start=1875\n",
      "True\n",
      "https://api.elsevier.com/content/search/scopus?query=cleantech&count=25&sort=citedby-count&start=1900\n",
      "True\n",
      "https://api.elsevier.com/content/search/scopus?query=cleantech&count=25&sort=citedby-count&start=1925\n",
      "True\n",
      "https://api.elsevier.com/content/search/scopus?query=cleantech&count=25&sort=citedby-count&start=1950\n",
      "True\n",
      "https://api.elsevier.com/content/search/scopus?query=cleantech&count=25&sort=citedby-count&start=1975\n",
      "True\n",
      "https://api.elsevier.com/content/search/scopus?query=cleantech&count=25&sort=citedby-count&start=2000\n",
      "True\n",
      "https://api.elsevier.com/content/search/scopus?query=cleantech&count=25&sort=citedby-count&start=2025\n",
      "True\n",
      "https://api.elsevier.com/content/search/scopus?query=cleantech&count=25&sort=citedby-count&start=2050\n",
      "True\n",
      "https://api.elsevier.com/content/search/scopus?query=cleantech&count=25&sort=citedby-count&start=2075\n",
      "True\n",
      "https://api.elsevier.com/content/search/scopus?query=cleantech&count=25&sort=citedby-count&start=2100\n",
      "True\n",
      "https://api.elsevier.com/content/search/scopus?query=cleantech&count=25&sort=citedby-count&start=2125\n",
      "True\n",
      "https://api.elsevier.com/content/search/scopus?query=cleantech&count=25&sort=citedby-count&start=2150\n",
      "True\n",
      "https://api.elsevier.com/content/search/scopus?query=cleantech&count=25&sort=citedby-count&start=2175\n",
      "True\n",
      "https://api.elsevier.com/content/search/scopus?query=cleantech&count=25&sort=citedby-count&start=2200\n",
      "True\n",
      "https://api.elsevier.com/content/search/scopus?query=cleantech&count=25&sort=citedby-count&start=2225\n",
      "True\n",
      "https://api.elsevier.com/content/search/scopus?query=cleantech&count=25&sort=citedby-count&start=2250\n",
      "False\n",
      "https://api.elsevier.com/content/search/scopus?query=cleantech&count=25&sort=citedby-count&start=2275\n",
      "False\n",
      "https://api.elsevier.com/content/search/scopus?query=cleantech&count=25&sort=citedby-count&start=2300\n",
      "False\n",
      "https://api.elsevier.com/content/search/scopus?query=cleantech&count=25&sort=citedby-count&start=2325\n",
      "False\n",
      "https://api.elsevier.com/content/search/scopus?query=cleantech&count=25&sort=citedby-count&start=2350\n",
      "False\n",
      "https://api.elsevier.com/content/search/scopus?query=cleantech&count=25&sort=citedby-count&start=2375\n",
      "False\n",
      "https://api.elsevier.com/content/search/scopus?query=cleantech&count=25&sort=citedby-count&start=2400\n",
      "False\n",
      "https://api.elsevier.com/content/search/scopus?query=cleantech&count=25&sort=citedby-count&start=2425\n",
      "False\n",
      "https://api.elsevier.com/content/search/scopus?query=cleantech&count=25&sort=citedby-count&start=2450\n",
      "False\n",
      "https://api.elsevier.com/content/search/scopus?query=cleantech&count=25&sort=citedby-count&start=2475\n",
      "False\n",
      "https://api.elsevier.com/content/search/scopus?query=cleantech&count=25&sort=citedby-count&start=2500\n",
      "False\n",
      "https://api.elsevier.com/content/search/scopus?query=cleantech&count=25&sort=citedby-count&start=2525\n",
      "False\n",
      "https://api.elsevier.com/content/search/scopus?query=cleantech&count=25&sort=citedby-count&start=2550\n",
      "False\n",
      "https://api.elsevier.com/content/search/scopus?query=cleantech&count=25&sort=citedby-count&start=2575\n",
      "False\n",
      "https://api.elsevier.com/content/search/scopus?query=cleantech&count=25&sort=citedby-count&start=2600\n",
      "False\n",
      "https://api.elsevier.com/content/search/scopus?query=cleantech&count=25&sort=citedby-count&start=2625\n",
      "False\n",
      "https://api.elsevier.com/content/search/scopus?query=cleantech&count=25&sort=citedby-count&start=2650\n",
      "False\n",
      "https://api.elsevier.com/content/search/scopus?query=cleantech&count=25&sort=citedby-count&start=2675\n",
      "False\n",
      "https://api.elsevier.com/content/search/scopus?query=cleantech&count=25&sort=citedby-count&start=2700\n",
      "False\n",
      "https://api.elsevier.com/content/search/scopus?query=cleantech&count=25&sort=citedby-count&start=2725\n",
      "False\n",
      "https://api.elsevier.com/content/search/scopus?query=cleantech&count=25&sort=citedby-count&start=2750\n",
      "False\n",
      "https://api.elsevier.com/content/search/scopus?query=cleantech&count=25&sort=citedby-count&start=2775\n",
      "False\n",
      "https://api.elsevier.com/content/search/scopus?query=cleantech&count=25&sort=citedby-count&start=2800\n",
      "False\n",
      "https://api.elsevier.com/content/search/scopus?query=cleantech&count=25&sort=citedby-count&start=2825\n",
      "False\n",
      "https://api.elsevier.com/content/search/scopus?query=cleantech&count=25&sort=citedby-count&start=2850\n",
      "False\n",
      "https://api.elsevier.com/content/search/scopus?query=cleantech&count=25&sort=citedby-count&start=2875\n",
      "False\n",
      "https://api.elsevier.com/content/search/scopus?query=cleantech&count=25&sort=citedby-count&start=2900\n",
      "False\n",
      "https://api.elsevier.com/content/search/scopus?query=cleantech&count=25&sort=citedby-count&start=2925\n",
      "False\n",
      "https://api.elsevier.com/content/search/scopus?query=cleantech&count=25&sort=citedby-count&start=2950\n",
      "False\n",
      "https://api.elsevier.com/content/search/scopus?query=cleantech&count=25&sort=citedby-count&start=2975\n",
      "True\n",
      "https://api.elsevier.com/content/search/scopus?query=cleantech&count=25&sort=citedby-count&start=3000\n",
      "True\n",
      "https://api.elsevier.com/content/search/scopus?query=cleantech&count=25&sort=citedby-count&start=3025\n",
      "True\n",
      "https://api.elsevier.com/content/search/scopus?query=cleantech&count=25&sort=citedby-count&start=3050\n",
      "True\n",
      "https://api.elsevier.com/content/search/scopus?query=cleantech&count=25&sort=citedby-count&start=3075\n",
      "True\n",
      "https://api.elsevier.com/content/search/scopus?query=cleantech&count=25&sort=citedby-count&start=3100\n",
      "True\n",
      "https://api.elsevier.com/content/search/scopus?query=cleantech&count=25&sort=citedby-count&start=3125\n",
      "True\n",
      "https://api.elsevier.com/content/search/scopus?query=cleantech&count=25&sort=citedby-count&start=3150\n",
      "True\n",
      "https://api.elsevier.com/content/search/scopus?query=cleantech&count=25&sort=citedby-count&start=3175\n",
      "True\n",
      "https://api.elsevier.com/content/search/scopus?query=cleantech&count=25&sort=citedby-count&start=3200\n",
      "True\n",
      "https://api.elsevier.com/content/search/scopus?query=cleantech&count=25&sort=citedby-count&start=3225\n",
      "True\n"
     ]
    }
   ],
   "source": [
    "for i in range(1,epos+1):\n",
    "    start = i*25\n",
    "    url = \"https://api.elsevier.com/content/search/scopus\"\n",
    "    url = QueryEdit(url,keyword,start = start)\n",
    "    print(url)\n",
    "    web = requests.get(url,headers=headers)\n",
    "    print(web.ok)\n",
    "    result = web.text\n",
    "    colnum = ['title','autor','doi','citedby_count','affilname','affiliation-city','affiliation-country']\n",
    "    paper_info_short = pd.DataFrame(columns=colnum)\n",
    "    \n",
    "\n"
   ]
  },
  {
   "cell_type": "code",
   "execution_count": 180,
   "metadata": {},
   "outputs": [],
   "source": [
    "f = open('scopus_raw_result.json','w+')\n",
    "json_object = json.dumps(web_json, indent=4)\n",
    "f.write(json_object)\n",
    "f.close()\n"
   ]
  },
  {
   "cell_type": "code",
   "execution_count": 220,
   "metadata": {},
   "outputs": [],
   "source": [
    "colnum = ['title','autor','doi','citedby_count','affilname','affiliation-city','affiliation-country']\n",
    "paper_info_short = pd.DataFrame(columns=colnum)"
   ]
  },
  {
   "cell_type": "code",
   "execution_count": 239,
   "metadata": {},
   "outputs": [],
   "source": [
    "\n"
   ]
  },
  {
   "cell_type": "code",
   "execution_count": 222,
   "metadata": {},
   "outputs": [],
   "source": [
    "paper_info_short = paper_info_short.reset_index(drop=True)\n",
    "   "
   ]
  },
  {
   "cell_type": "code",
   "execution_count": 225,
   "metadata": {},
   "outputs": [
    {
     "data": {
      "text/plain": [
       "4"
      ]
     },
     "execution_count": 225,
     "metadata": {},
     "output_type": "execute_result"
    }
   ],
   "source": [
    "101 // 25"
   ]
  },
  {
   "cell_type": "code",
   "execution_count": 81,
   "metadata": {},
   "outputs": [
    {
     "data": {
      "text/plain": [
       "[{'@_fa': 'true',\n",
       "  'affilname': 'School of Civil and Environmental Engineering',\n",
       "  'affiliation-city': 'Singapore City',\n",
       "  'affiliation-country': 'Singapore'},\n",
       " {'@_fa': 'true',\n",
       "  'affilname': 'Shenzhen University',\n",
       "  'affiliation-city': 'Shenzhen',\n",
       "  'affiliation-country': 'China'}]"
      ]
     },
     "execution_count": 81,
     "metadata": {},
     "output_type": "execute_result"
    }
   ],
   "source": [
    "web_json['search-results']['entry'][0]['affiliation']"
   ]
  },
  {
   "cell_type": "code",
   "execution_count": 172,
   "metadata": {},
   "outputs": [],
   "source": [
    "aburl = 'https://api.elsevier.com/content/article/doi/10.1016/j.envpol.2022.120034'\n",
    "abstract = requests.get(aburl,headers = headers)"
   ]
  },
  {
   "cell_type": "code",
   "execution_count": 174,
   "metadata": {},
   "outputs": [
    {
     "name": "stdout",
     "output_type": "stream",
     "text": [
      "<full-text-retrieval-response xmlns=\"http://www.elsevier.com/xml/svapi/article/dtd\" xmlns:bk=\"http://www.elsevier.com/xml/bk/dtd\" xmlns:cals=\"http://www.elsevier.com/xml/common/cals/dtd\" xmlns:ce=\"http://www.elsevier.com/xml/common/dtd\" xmlns:ja=\"http://www.elsevier.com/xml/ja/dtd\" xmlns:mml=\"http://www.w3.org/1998/Math/MathML\" xmlns:sa=\"http://www.elsevier.com/xml/common/struct-aff/dtd\" xmlns:sb=\"http://www.elsevier.com/xml/common/struct-bib/dtd\" xmlns:tb=\"http://www.elsevier.com/xml/common/table/dtd\" xmlns:xlink=\"http://www.w3.org/1999/xlink\" xmlns:xocs=\"http://www.elsevier.com/xml/xocs/dtd\" xmlns:dc=\"http://purl.org/dc/elements/1.1/\" xmlns:dcterms=\"http://purl.org/dc/terms/\" xmlns:prism=\"http://prismstandard.org/namespaces/basic/2.0/\" xmlns:xsi=\"http://www.w3.org/2001/XMLSchema-instance\"><coredata><prism:url>https://api.elsevier.com/content/article/pii/S0269749122012489</prism:url><dc:identifier>doi:10.1016/j.envpol.2022.120034</dc:identifier><eid>1-s2.0-S0269749122012489</eid><prism:doi>10.1016/j.envpol.2022.120034</prism:doi><pii>S0269-7491(22)01248-9</pii><dc:title>Applications of crushing and grinding-based treatments for typical metal-containing solid wastes: Detoxification and resource recovery potentials </dc:title><prism:publicationName>Environmental Pollution</prism:publicationName><prism:aggregationType>Journal</prism:aggregationType><pubType>rev</pubType><prism:issn>02697491</prism:issn><prism:volume>314</prism:volume><prism:startingPage>120034</prism:startingPage><prism:pageRange>120034</prism:pageRange><articleNumber>120034</articleNumber><dc:format>text/xml</dc:format><prism:coverDate>2022-12-01</prism:coverDate><prism:coverDisplayDate>1 December 2022</prism:coverDisplayDate><prism:copyright>© 2022 Elsevier Ltd. All rights reserved.</prism:copyright><prism:publisher>Elsevier Ltd.</prism:publisher><dc:creator>He, Hongping</dc:creator><dc:creator>Yang, Bo</dc:creator><dc:creator>Wu, Deli</dc:creator><dc:creator>Gao, Xiaofeng</dc:creator><dc:creator>Fei, Xunchang</dc:creator><dc:description>\n",
      "                  Metal-containing solid wastes can induce serious environmental pollution if managed improperly, but contain considerable resources. The detoxification and resource recoveries of these wastes are of both environmental and economic significances, being indispensable for circular economy. In the past decades, attempts have been made worldwide to treat these wastes. Crushing and grinding-based treatments have been increasingly applied, the operating apparatus and parameters of which depend on the waste type and treatment purpose. Based on the relevant studies, the applications of crushing and grinding on four major types of solid wastes, namely spent lithium-ion batteries (LIBs) cathode, waste printed circuit boards (WPCBs), incineration bottom ash (IBA), and incineration fly ash (IFA) are here systematically reviewed. These types of solid wastes are generated in increasing amounts, and have the potentials to release various organic and inorganic pollutants. Despite of the widely different texture, composition, and other physicochemical properties of the solid wastes, crushing and grinding have been demonstrated to be universally applicable. For each of the four wastes, the technical route that involving crushing and grinding is described with the advantages highlighted. The crushing and grinding serve either mainstream or auxiliary role in the processing of the solid wastes. This review summarizes and highlights the developments and future directions of crushing and grinding-based treatments.\n",
      "               </dc:description><openaccess>0</openaccess><openaccessArticle>false</openaccessArticle><openaccessType/><openArchiveArticle>false</openArchiveArticle><openaccessSponsorName/><openaccessSponsorType/><openaccessUserLicense/><dcterms:subject>Crushing</dcterms:subject><dcterms:subject>Grinding</dcterms:subject><dcterms:subject>Metal-containing solid waste</dcterms:subject><dcterms:subject>Detoxification</dcterms:subject><dcterms:subject>Resource recovery</dcterms:subject><link href=\"https://api.elsevier.com/content/article/pii/S0269749122012489\" rel=\"self\"/><link href=\"https://www.sciencedirect.com/science/article/pii/S0269749122012489\" rel=\"scidir\"/></coredata><scopus-id>85138137623</scopus-id><scopus-eid>2-s2.0-85138137623</scopus-eid><pubmed-id>36030964</pubmed-id><link href=\"https://api.elsevier.com/content/abstract/scopus_id/85138137623\" rel=\"abstract\"/><originalText><xocs:doc><xocs:meta><xocs:open-access xmlns:xocs=\"http://www.elsevier.com/xml/xocs/dtd\"\n",
      "                  xmlns:xsi=\"http://www.w3.org/2001/XMLSchema-instance\"\n",
      "                  xmlns:xoe=\"http://www.elsevier.com/xml/xoe/dtd\">\n",
      "   <xocs:oa-article-status is-open-access=\"0\" is-open-archive=\"0\"/>\n",
      "</xocs:open-access><xocs:available-online-date xmlns:xoe=\"http://www.elsevier.com/xml/xoe/dtd\" yyyymmdd=\"20220828\">2022-08-28</xocs:available-online-date></xocs:meta></xocs:doc></originalText></full-text-retrieval-response>\n"
     ]
    }
   ],
   "source": [
    "print(abstract.text)\n",
    "temp = open(\"temp.txt\",'w+')\n",
    "temp.write(abstract.text)\n",
    "temp.close()"
   ]
  }
 ],
 "metadata": {
  "kernelspec": {
   "display_name": "Python 3.10.4 64-bit",
   "language": "python",
   "name": "python3"
  },
  "language_info": {
   "codemirror_mode": {
    "name": "ipython",
    "version": 3
   },
   "file_extension": ".py",
   "mimetype": "text/x-python",
   "name": "python",
   "nbconvert_exporter": "python",
   "pygments_lexer": "ipython3",
   "version": "3.10.4"
  },
  "orig_nbformat": 4,
  "vscode": {
   "interpreter": {
    "hash": "77b1663d9e8270c5f57c858e0e092054b0efe5a178051a91a604cda764b65918"
   }
  }
 },
 "nbformat": 4,
 "nbformat_minor": 2
}
