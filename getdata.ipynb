{
 "cells": [
  {
   "cell_type": "code",
   "execution_count": 1,
   "metadata": {},
   "outputs": [],
   "source": [
    "import requests\n",
    "import json\n",
    "import pandas as pd\n",
    "import time\n",
    "import random\n",
    "import xmltodict\n"
   ]
  },
  {
   "cell_type": "code",
   "execution_count": 2,
   "metadata": {},
   "outputs": [],
   "source": [
    "def QueryEdit(url,keyword,Affiliation=None,daterange=None,start = 0,sort = 'citedby-count'):\n",
    "    url +='?query={}'.format(keyword)\n",
    "    if Affiliation!=None:\n",
    "        url+=\"+AFFIL({})\".format(Affiliation)\n",
    "    url += \"&count={}\".format(count)\n",
    "    url += \"&sort={}\".format(sort)\n",
    "    url += \"&start={}\".format(start)\n",
    "    return url"
   ]
  },
  {
   "cell_type": "code",
   "execution_count": 3,
   "metadata": {},
   "outputs": [
    {
     "name": "stdout",
     "output_type": "stream",
     "text": [
      "['clean technology', 'clean-energy', 'carbon emissions', 'energy efficient', 'green energy', 'renewable energy', 'smart home', 'geothermal', 'wastewater treatment', 'carbon emissions', 'zero waste', 'energy storage', 'heat recovery', 'green building', 'additive manufacturing', 'waste reduction', 'maritime electrification']\n",
      "https://api.elsevier.com/content/search/scopus\n"
     ]
    }
   ],
   "source": [
    "conf = open('config.json','r') \n",
    "config = json.load(conf)\n",
    "api_key = config['API_key']\n",
    "conf.close()\n",
    "keyw = open('keywords.txt','r')\n",
    "keywords = keyw.readlines()\n",
    "keyw.close()\n",
    "for index in range(len(keywords)):\n",
    "    keywords[index] = keywords[index].replace('\\n','')\n",
    "print(keywords)\n",
    "Affiliation = 'University of Auckland'\n",
    "start = 0\n",
    "count = 25\n",
    "step = 25\n",
    "url = \"https://api.elsevier.com/content/search/scopus\"\n",
    "headers=  {'X-ELS-APIKey':api_key}\n",
    "print(url)\n"
   ]
  },
  {
   "cell_type": "code",
   "execution_count": 4,
   "metadata": {},
   "outputs": [],
   "source": [
    "def TidyJsontoDf(web_json,paper_info_short,column):\n",
    "    try :\n",
    "        for paper in web_json['search-results']['entry']:\n",
    "            try:\n",
    "                title = paper['dc:title']\n",
    "                autor = paper['dc:creator']\n",
    "                doi = paper['prism:doi']\n",
    "                citedby_count = paper['citedby-count']\n",
    "                affilname = paper['affiliation'][0]['affilname']\n",
    "                affiliation_city = paper['affiliation'][0]['affiliation-city']\n",
    "                affiliation_country = paper['affiliation'][0]['affiliation-country']\n",
    "            except:\n",
    "                continue\n",
    "            paper_data = [[title,autor,doi,citedby_count,affilname,affiliation_city,affiliation_country]]\n",
    "            paper_info = pd.DataFrame(data=paper_data, columns=column)\n",
    "            paper_info_short = pd.concat([paper_info_short,paper_info],ignore_index=True)\n",
    "    except:\n",
    "        pass\n",
    "    return paper_info_short"
   ]
  },
  {
   "cell_type": "code",
   "execution_count": 10,
   "metadata": {},
   "outputs": [],
   "source": [
    "def GetAndTidy(keyword,Affiliation = None,url=url, headers = headers):\n",
    "    url = QueryEdit(url,keyword,Affiliation = None)\n",
    "    print(url)\n",
    "    web = requests.get(url,headers=headers)\n",
    "    result = web.text\n",
    "    web_json = json.loads(result)\n",
    "    print(web_json['search-results']['opensearch:totalResults'])\n",
    "    epos = int(web_json['search-results']['opensearch:totalResults']) // step +1\n",
    "    column = ['title','autor','doi','citedby_count','affilname','affiliation-city','affiliation-country']\n",
    "    paper_info_short = pd.DataFrame(columns=column)\n",
    "    paper_info_short = TidyJsontoDf(web_json,paper_info_short,column)\n",
    "    for i in range(1,epos+1):\n",
    "        \n",
    "        start = i*25\n",
    "        if start > 5000: break\n",
    "        url = \"https://api.elsevier.com/content/search/scopus\"\n",
    "        url = QueryEdit(url,keyword,start = start)\n",
    "        print(url)\n",
    "        web = requests.get(url,headers=headers)\n",
    "        if(web.ok):\n",
    "            result = web.text\n",
    "            web_json = json.loads(result)\n",
    "            paper_info_short = TidyJsontoDf(web_json,paper_info_short,column)\n",
    "        time.sleep(random.random())\n",
    "    return paper_info_short\n",
    "\n"
   ]
  },
  {
   "cell_type": "code",
   "execution_count": 11,
   "metadata": {},
   "outputs": [
    {
     "name": "stdout",
     "output_type": "stream",
     "text": [
      "https://api.elsevier.com/content/search/scopus?query=geothermal&count=25&sort=citedby-count&start=0\n",
      "215406\n",
      "https://api.elsevier.com/content/search/scopus?query=geothermal&count=25&sort=citedby-count&start=25\n",
      "https://api.elsevier.com/content/search/scopus?query=geothermal&count=25&sort=citedby-count&start=50\n",
      "https://api.elsevier.com/content/search/scopus?query=geothermal&count=25&sort=citedby-count&start=75\n",
      "https://api.elsevier.com/content/search/scopus?query=geothermal&count=25&sort=citedby-count&start=100\n",
      "https://api.elsevier.com/content/search/scopus?query=geothermal&count=25&sort=citedby-count&start=125\n",
      "https://api.elsevier.com/content/search/scopus?query=geothermal&count=25&sort=citedby-count&start=150\n",
      "https://api.elsevier.com/content/search/scopus?query=geothermal&count=25&sort=citedby-count&start=175\n",
      "https://api.elsevier.com/content/search/scopus?query=geothermal&count=25&sort=citedby-count&start=200\n",
      "https://api.elsevier.com/content/search/scopus?query=geothermal&count=25&sort=citedby-count&start=225\n",
      "https://api.elsevier.com/content/search/scopus?query=geothermal&count=25&sort=citedby-count&start=250\n",
      "https://api.elsevier.com/content/search/scopus?query=geothermal&count=25&sort=citedby-count&start=275\n",
      "https://api.elsevier.com/content/search/scopus?query=geothermal&count=25&sort=citedby-count&start=300\n",
      "https://api.elsevier.com/content/search/scopus?query=geothermal&count=25&sort=citedby-count&start=325\n",
      "https://api.elsevier.com/content/search/scopus?query=geothermal&count=25&sort=citedby-count&start=350\n",
      "https://api.elsevier.com/content/search/scopus?query=geothermal&count=25&sort=citedby-count&start=375\n",
      "https://api.elsevier.com/content/search/scopus?query=geothermal&count=25&sort=citedby-count&start=400\n",
      "https://api.elsevier.com/content/search/scopus?query=geothermal&count=25&sort=citedby-count&start=425\n",
      "https://api.elsevier.com/content/search/scopus?query=geothermal&count=25&sort=citedby-count&start=450\n",
      "https://api.elsevier.com/content/search/scopus?query=geothermal&count=25&sort=citedby-count&start=475\n",
      "https://api.elsevier.com/content/search/scopus?query=geothermal&count=25&sort=citedby-count&start=500\n",
      "https://api.elsevier.com/content/search/scopus?query=geothermal&count=25&sort=citedby-count&start=525\n",
      "https://api.elsevier.com/content/search/scopus?query=geothermal&count=25&sort=citedby-count&start=550\n",
      "https://api.elsevier.com/content/search/scopus?query=geothermal&count=25&sort=citedby-count&start=575\n",
      "https://api.elsevier.com/content/search/scopus?query=geothermal&count=25&sort=citedby-count&start=600\n",
      "https://api.elsevier.com/content/search/scopus?query=geothermal&count=25&sort=citedby-count&start=625\n",
      "https://api.elsevier.com/content/search/scopus?query=geothermal&count=25&sort=citedby-count&start=650\n",
      "https://api.elsevier.com/content/search/scopus?query=geothermal&count=25&sort=citedby-count&start=675\n",
      "https://api.elsevier.com/content/search/scopus?query=geothermal&count=25&sort=citedby-count&start=700\n",
      "https://api.elsevier.com/content/search/scopus?query=geothermal&count=25&sort=citedby-count&start=725\n",
      "https://api.elsevier.com/content/search/scopus?query=geothermal&count=25&sort=citedby-count&start=750\n",
      "https://api.elsevier.com/content/search/scopus?query=geothermal&count=25&sort=citedby-count&start=775\n",
      "https://api.elsevier.com/content/search/scopus?query=geothermal&count=25&sort=citedby-count&start=800\n",
      "https://api.elsevier.com/content/search/scopus?query=geothermal&count=25&sort=citedby-count&start=825\n",
      "https://api.elsevier.com/content/search/scopus?query=geothermal&count=25&sort=citedby-count&start=850\n",
      "https://api.elsevier.com/content/search/scopus?query=geothermal&count=25&sort=citedby-count&start=875\n",
      "https://api.elsevier.com/content/search/scopus?query=geothermal&count=25&sort=citedby-count&start=900\n",
      "https://api.elsevier.com/content/search/scopus?query=geothermal&count=25&sort=citedby-count&start=925\n",
      "https://api.elsevier.com/content/search/scopus?query=geothermal&count=25&sort=citedby-count&start=950\n",
      "https://api.elsevier.com/content/search/scopus?query=geothermal&count=25&sort=citedby-count&start=975\n",
      "https://api.elsevier.com/content/search/scopus?query=geothermal&count=25&sort=citedby-count&start=1000\n",
      "https://api.elsevier.com/content/search/scopus?query=geothermal&count=25&sort=citedby-count&start=1025\n",
      "https://api.elsevier.com/content/search/scopus?query=geothermal&count=25&sort=citedby-count&start=1050\n",
      "https://api.elsevier.com/content/search/scopus?query=geothermal&count=25&sort=citedby-count&start=1075\n",
      "https://api.elsevier.com/content/search/scopus?query=geothermal&count=25&sort=citedby-count&start=1100\n",
      "https://api.elsevier.com/content/search/scopus?query=geothermal&count=25&sort=citedby-count&start=1125\n",
      "https://api.elsevier.com/content/search/scopus?query=geothermal&count=25&sort=citedby-count&start=1150\n",
      "https://api.elsevier.com/content/search/scopus?query=geothermal&count=25&sort=citedby-count&start=1175\n",
      "https://api.elsevier.com/content/search/scopus?query=geothermal&count=25&sort=citedby-count&start=1200\n",
      "https://api.elsevier.com/content/search/scopus?query=geothermal&count=25&sort=citedby-count&start=1225\n",
      "https://api.elsevier.com/content/search/scopus?query=geothermal&count=25&sort=citedby-count&start=1250\n",
      "https://api.elsevier.com/content/search/scopus?query=geothermal&count=25&sort=citedby-count&start=1275\n",
      "https://api.elsevier.com/content/search/scopus?query=geothermal&count=25&sort=citedby-count&start=1300\n",
      "https://api.elsevier.com/content/search/scopus?query=geothermal&count=25&sort=citedby-count&start=1325\n",
      "https://api.elsevier.com/content/search/scopus?query=geothermal&count=25&sort=citedby-count&start=1350\n",
      "https://api.elsevier.com/content/search/scopus?query=geothermal&count=25&sort=citedby-count&start=1375\n",
      "https://api.elsevier.com/content/search/scopus?query=geothermal&count=25&sort=citedby-count&start=1400\n",
      "https://api.elsevier.com/content/search/scopus?query=geothermal&count=25&sort=citedby-count&start=1425\n",
      "https://api.elsevier.com/content/search/scopus?query=geothermal&count=25&sort=citedby-count&start=1450\n",
      "https://api.elsevier.com/content/search/scopus?query=geothermal&count=25&sort=citedby-count&start=1475\n",
      "https://api.elsevier.com/content/search/scopus?query=geothermal&count=25&sort=citedby-count&start=1500\n",
      "https://api.elsevier.com/content/search/scopus?query=geothermal&count=25&sort=citedby-count&start=1525\n",
      "https://api.elsevier.com/content/search/scopus?query=geothermal&count=25&sort=citedby-count&start=1550\n",
      "https://api.elsevier.com/content/search/scopus?query=geothermal&count=25&sort=citedby-count&start=1575\n",
      "https://api.elsevier.com/content/search/scopus?query=geothermal&count=25&sort=citedby-count&start=1600\n",
      "https://api.elsevier.com/content/search/scopus?query=geothermal&count=25&sort=citedby-count&start=1625\n",
      "https://api.elsevier.com/content/search/scopus?query=geothermal&count=25&sort=citedby-count&start=1650\n",
      "https://api.elsevier.com/content/search/scopus?query=geothermal&count=25&sort=citedby-count&start=1675\n",
      "https://api.elsevier.com/content/search/scopus?query=geothermal&count=25&sort=citedby-count&start=1700\n",
      "https://api.elsevier.com/content/search/scopus?query=geothermal&count=25&sort=citedby-count&start=1725\n",
      "https://api.elsevier.com/content/search/scopus?query=geothermal&count=25&sort=citedby-count&start=1750\n",
      "https://api.elsevier.com/content/search/scopus?query=geothermal&count=25&sort=citedby-count&start=1775\n",
      "https://api.elsevier.com/content/search/scopus?query=geothermal&count=25&sort=citedby-count&start=1800\n",
      "https://api.elsevier.com/content/search/scopus?query=geothermal&count=25&sort=citedby-count&start=1825\n",
      "https://api.elsevier.com/content/search/scopus?query=geothermal&count=25&sort=citedby-count&start=1850\n",
      "https://api.elsevier.com/content/search/scopus?query=geothermal&count=25&sort=citedby-count&start=1875\n",
      "https://api.elsevier.com/content/search/scopus?query=geothermal&count=25&sort=citedby-count&start=1900\n",
      "https://api.elsevier.com/content/search/scopus?query=geothermal&count=25&sort=citedby-count&start=1925\n",
      "https://api.elsevier.com/content/search/scopus?query=geothermal&count=25&sort=citedby-count&start=1950\n",
      "https://api.elsevier.com/content/search/scopus?query=geothermal&count=25&sort=citedby-count&start=1975\n",
      "https://api.elsevier.com/content/search/scopus?query=geothermal&count=25&sort=citedby-count&start=2000\n",
      "https://api.elsevier.com/content/search/scopus?query=geothermal&count=25&sort=citedby-count&start=2025\n",
      "https://api.elsevier.com/content/search/scopus?query=geothermal&count=25&sort=citedby-count&start=2050\n",
      "https://api.elsevier.com/content/search/scopus?query=geothermal&count=25&sort=citedby-count&start=2075\n",
      "https://api.elsevier.com/content/search/scopus?query=geothermal&count=25&sort=citedby-count&start=2100\n",
      "https://api.elsevier.com/content/search/scopus?query=geothermal&count=25&sort=citedby-count&start=2125\n",
      "https://api.elsevier.com/content/search/scopus?query=geothermal&count=25&sort=citedby-count&start=2150\n",
      "https://api.elsevier.com/content/search/scopus?query=geothermal&count=25&sort=citedby-count&start=2175\n",
      "https://api.elsevier.com/content/search/scopus?query=geothermal&count=25&sort=citedby-count&start=2200\n",
      "https://api.elsevier.com/content/search/scopus?query=geothermal&count=25&sort=citedby-count&start=2225\n",
      "https://api.elsevier.com/content/search/scopus?query=geothermal&count=25&sort=citedby-count&start=2250\n",
      "https://api.elsevier.com/content/search/scopus?query=geothermal&count=25&sort=citedby-count&start=2275\n",
      "https://api.elsevier.com/content/search/scopus?query=geothermal&count=25&sort=citedby-count&start=2300\n",
      "https://api.elsevier.com/content/search/scopus?query=geothermal&count=25&sort=citedby-count&start=2325\n",
      "https://api.elsevier.com/content/search/scopus?query=geothermal&count=25&sort=citedby-count&start=2350\n",
      "https://api.elsevier.com/content/search/scopus?query=geothermal&count=25&sort=citedby-count&start=2375\n",
      "https://api.elsevier.com/content/search/scopus?query=geothermal&count=25&sort=citedby-count&start=2400\n",
      "https://api.elsevier.com/content/search/scopus?query=geothermal&count=25&sort=citedby-count&start=2425\n",
      "https://api.elsevier.com/content/search/scopus?query=geothermal&count=25&sort=citedby-count&start=2450\n",
      "https://api.elsevier.com/content/search/scopus?query=geothermal&count=25&sort=citedby-count&start=2475\n",
      "https://api.elsevier.com/content/search/scopus?query=geothermal&count=25&sort=citedby-count&start=2500\n",
      "https://api.elsevier.com/content/search/scopus?query=geothermal&count=25&sort=citedby-count&start=2525\n",
      "https://api.elsevier.com/content/search/scopus?query=geothermal&count=25&sort=citedby-count&start=2550\n",
      "https://api.elsevier.com/content/search/scopus?query=geothermal&count=25&sort=citedby-count&start=2575\n",
      "https://api.elsevier.com/content/search/scopus?query=geothermal&count=25&sort=citedby-count&start=2600\n",
      "https://api.elsevier.com/content/search/scopus?query=geothermal&count=25&sort=citedby-count&start=2625\n",
      "https://api.elsevier.com/content/search/scopus?query=geothermal&count=25&sort=citedby-count&start=2650\n",
      "https://api.elsevier.com/content/search/scopus?query=geothermal&count=25&sort=citedby-count&start=2675\n",
      "https://api.elsevier.com/content/search/scopus?query=geothermal&count=25&sort=citedby-count&start=2700\n",
      "https://api.elsevier.com/content/search/scopus?query=geothermal&count=25&sort=citedby-count&start=2725\n",
      "https://api.elsevier.com/content/search/scopus?query=geothermal&count=25&sort=citedby-count&start=2750\n",
      "https://api.elsevier.com/content/search/scopus?query=geothermal&count=25&sort=citedby-count&start=2775\n",
      "https://api.elsevier.com/content/search/scopus?query=geothermal&count=25&sort=citedby-count&start=2800\n",
      "https://api.elsevier.com/content/search/scopus?query=geothermal&count=25&sort=citedby-count&start=2825\n",
      "https://api.elsevier.com/content/search/scopus?query=geothermal&count=25&sort=citedby-count&start=2850\n",
      "https://api.elsevier.com/content/search/scopus?query=geothermal&count=25&sort=citedby-count&start=2875\n",
      "https://api.elsevier.com/content/search/scopus?query=geothermal&count=25&sort=citedby-count&start=2900\n",
      "https://api.elsevier.com/content/search/scopus?query=geothermal&count=25&sort=citedby-count&start=2925\n",
      "https://api.elsevier.com/content/search/scopus?query=geothermal&count=25&sort=citedby-count&start=2950\n",
      "https://api.elsevier.com/content/search/scopus?query=geothermal&count=25&sort=citedby-count&start=2975\n",
      "https://api.elsevier.com/content/search/scopus?query=geothermal&count=25&sort=citedby-count&start=3000\n",
      "https://api.elsevier.com/content/search/scopus?query=geothermal&count=25&sort=citedby-count&start=3025\n",
      "https://api.elsevier.com/content/search/scopus?query=geothermal&count=25&sort=citedby-count&start=3050\n",
      "https://api.elsevier.com/content/search/scopus?query=geothermal&count=25&sort=citedby-count&start=3075\n",
      "https://api.elsevier.com/content/search/scopus?query=geothermal&count=25&sort=citedby-count&start=3100\n",
      "https://api.elsevier.com/content/search/scopus?query=geothermal&count=25&sort=citedby-count&start=3125\n",
      "https://api.elsevier.com/content/search/scopus?query=geothermal&count=25&sort=citedby-count&start=3150\n",
      "https://api.elsevier.com/content/search/scopus?query=geothermal&count=25&sort=citedby-count&start=3175\n",
      "https://api.elsevier.com/content/search/scopus?query=geothermal&count=25&sort=citedby-count&start=3200\n",
      "https://api.elsevier.com/content/search/scopus?query=geothermal&count=25&sort=citedby-count&start=3225\n",
      "https://api.elsevier.com/content/search/scopus?query=geothermal&count=25&sort=citedby-count&start=3250\n",
      "https://api.elsevier.com/content/search/scopus?query=geothermal&count=25&sort=citedby-count&start=3275\n",
      "https://api.elsevier.com/content/search/scopus?query=geothermal&count=25&sort=citedby-count&start=3300\n",
      "https://api.elsevier.com/content/search/scopus?query=geothermal&count=25&sort=citedby-count&start=3325\n",
      "https://api.elsevier.com/content/search/scopus?query=geothermal&count=25&sort=citedby-count&start=3350\n",
      "https://api.elsevier.com/content/search/scopus?query=geothermal&count=25&sort=citedby-count&start=3375\n",
      "https://api.elsevier.com/content/search/scopus?query=geothermal&count=25&sort=citedby-count&start=3400\n",
      "https://api.elsevier.com/content/search/scopus?query=geothermal&count=25&sort=citedby-count&start=3425\n",
      "https://api.elsevier.com/content/search/scopus?query=geothermal&count=25&sort=citedby-count&start=3450\n",
      "https://api.elsevier.com/content/search/scopus?query=geothermal&count=25&sort=citedby-count&start=3475\n",
      "https://api.elsevier.com/content/search/scopus?query=geothermal&count=25&sort=citedby-count&start=3500\n",
      "https://api.elsevier.com/content/search/scopus?query=geothermal&count=25&sort=citedby-count&start=3525\n",
      "https://api.elsevier.com/content/search/scopus?query=geothermal&count=25&sort=citedby-count&start=3550\n",
      "https://api.elsevier.com/content/search/scopus?query=geothermal&count=25&sort=citedby-count&start=3575\n",
      "https://api.elsevier.com/content/search/scopus?query=geothermal&count=25&sort=citedby-count&start=3600\n",
      "https://api.elsevier.com/content/search/scopus?query=geothermal&count=25&sort=citedby-count&start=3625\n",
      "https://api.elsevier.com/content/search/scopus?query=geothermal&count=25&sort=citedby-count&start=3650\n",
      "https://api.elsevier.com/content/search/scopus?query=geothermal&count=25&sort=citedby-count&start=3675\n",
      "https://api.elsevier.com/content/search/scopus?query=geothermal&count=25&sort=citedby-count&start=3700\n",
      "https://api.elsevier.com/content/search/scopus?query=geothermal&count=25&sort=citedby-count&start=3725\n",
      "https://api.elsevier.com/content/search/scopus?query=geothermal&count=25&sort=citedby-count&start=3750\n",
      "https://api.elsevier.com/content/search/scopus?query=geothermal&count=25&sort=citedby-count&start=3775\n",
      "https://api.elsevier.com/content/search/scopus?query=geothermal&count=25&sort=citedby-count&start=3800\n",
      "https://api.elsevier.com/content/search/scopus?query=geothermal&count=25&sort=citedby-count&start=3825\n",
      "https://api.elsevier.com/content/search/scopus?query=geothermal&count=25&sort=citedby-count&start=3850\n",
      "https://api.elsevier.com/content/search/scopus?query=geothermal&count=25&sort=citedby-count&start=3875\n",
      "https://api.elsevier.com/content/search/scopus?query=geothermal&count=25&sort=citedby-count&start=3900\n",
      "https://api.elsevier.com/content/search/scopus?query=geothermal&count=25&sort=citedby-count&start=3925\n",
      "https://api.elsevier.com/content/search/scopus?query=geothermal&count=25&sort=citedby-count&start=3950\n",
      "https://api.elsevier.com/content/search/scopus?query=geothermal&count=25&sort=citedby-count&start=3975\n",
      "https://api.elsevier.com/content/search/scopus?query=geothermal&count=25&sort=citedby-count&start=4000\n",
      "https://api.elsevier.com/content/search/scopus?query=geothermal&count=25&sort=citedby-count&start=4025\n",
      "https://api.elsevier.com/content/search/scopus?query=geothermal&count=25&sort=citedby-count&start=4050\n",
      "https://api.elsevier.com/content/search/scopus?query=geothermal&count=25&sort=citedby-count&start=4075\n",
      "https://api.elsevier.com/content/search/scopus?query=geothermal&count=25&sort=citedby-count&start=4100\n",
      "https://api.elsevier.com/content/search/scopus?query=geothermal&count=25&sort=citedby-count&start=4125\n",
      "https://api.elsevier.com/content/search/scopus?query=geothermal&count=25&sort=citedby-count&start=4150\n",
      "https://api.elsevier.com/content/search/scopus?query=geothermal&count=25&sort=citedby-count&start=4175\n",
      "https://api.elsevier.com/content/search/scopus?query=geothermal&count=25&sort=citedby-count&start=4200\n",
      "https://api.elsevier.com/content/search/scopus?query=geothermal&count=25&sort=citedby-count&start=4225\n",
      "https://api.elsevier.com/content/search/scopus?query=geothermal&count=25&sort=citedby-count&start=4250\n",
      "https://api.elsevier.com/content/search/scopus?query=geothermal&count=25&sort=citedby-count&start=4275\n",
      "https://api.elsevier.com/content/search/scopus?query=geothermal&count=25&sort=citedby-count&start=4300\n",
      "https://api.elsevier.com/content/search/scopus?query=geothermal&count=25&sort=citedby-count&start=4325\n",
      "https://api.elsevier.com/content/search/scopus?query=geothermal&count=25&sort=citedby-count&start=4350\n",
      "https://api.elsevier.com/content/search/scopus?query=geothermal&count=25&sort=citedby-count&start=4375\n",
      "https://api.elsevier.com/content/search/scopus?query=geothermal&count=25&sort=citedby-count&start=4400\n",
      "https://api.elsevier.com/content/search/scopus?query=geothermal&count=25&sort=citedby-count&start=4425\n",
      "https://api.elsevier.com/content/search/scopus?query=geothermal&count=25&sort=citedby-count&start=4450\n",
      "https://api.elsevier.com/content/search/scopus?query=geothermal&count=25&sort=citedby-count&start=4475\n",
      "https://api.elsevier.com/content/search/scopus?query=geothermal&count=25&sort=citedby-count&start=4500\n",
      "https://api.elsevier.com/content/search/scopus?query=geothermal&count=25&sort=citedby-count&start=4525\n",
      "https://api.elsevier.com/content/search/scopus?query=geothermal&count=25&sort=citedby-count&start=4550\n",
      "https://api.elsevier.com/content/search/scopus?query=geothermal&count=25&sort=citedby-count&start=4575\n",
      "https://api.elsevier.com/content/search/scopus?query=geothermal&count=25&sort=citedby-count&start=4600\n",
      "https://api.elsevier.com/content/search/scopus?query=geothermal&count=25&sort=citedby-count&start=4625\n",
      "https://api.elsevier.com/content/search/scopus?query=geothermal&count=25&sort=citedby-count&start=4650\n",
      "https://api.elsevier.com/content/search/scopus?query=geothermal&count=25&sort=citedby-count&start=4675\n",
      "https://api.elsevier.com/content/search/scopus?query=geothermal&count=25&sort=citedby-count&start=4700\n",
      "https://api.elsevier.com/content/search/scopus?query=geothermal&count=25&sort=citedby-count&start=4725\n",
      "https://api.elsevier.com/content/search/scopus?query=geothermal&count=25&sort=citedby-count&start=4750\n",
      "https://api.elsevier.com/content/search/scopus?query=geothermal&count=25&sort=citedby-count&start=4775\n",
      "https://api.elsevier.com/content/search/scopus?query=geothermal&count=25&sort=citedby-count&start=4800\n",
      "https://api.elsevier.com/content/search/scopus?query=geothermal&count=25&sort=citedby-count&start=4825\n",
      "https://api.elsevier.com/content/search/scopus?query=geothermal&count=25&sort=citedby-count&start=4850\n",
      "https://api.elsevier.com/content/search/scopus?query=geothermal&count=25&sort=citedby-count&start=4875\n",
      "https://api.elsevier.com/content/search/scopus?query=geothermal&count=25&sort=citedby-count&start=4900\n",
      "https://api.elsevier.com/content/search/scopus?query=geothermal&count=25&sort=citedby-count&start=4925\n",
      "https://api.elsevier.com/content/search/scopus?query=geothermal&count=25&sort=citedby-count&start=4950\n",
      "https://api.elsevier.com/content/search/scopus?query=geothermal&count=25&sort=citedby-count&start=4975\n",
      "https://api.elsevier.com/content/search/scopus?query=geothermal&count=25&sort=citedby-count&start=5000\n"
     ]
    }
   ],
   "source": [
    "keyword = 'geothermal'\n",
    "url = \"https://api.elsevier.com/content/search/scopus\"\n",
    "paper_info = GetAndTidy(keyword,url = url)\n"
   ]
  },
  {
   "cell_type": "code",
   "execution_count": 12,
   "metadata": {},
   "outputs": [
    {
     "name": "stdout",
     "output_type": "stream",
     "text": [
      "<class 'pandas.core.frame.DataFrame'>\n",
      "RangeIndex: 4738 entries, 0 to 4737\n",
      "Data columns (total 7 columns):\n",
      " #   Column               Non-Null Count  Dtype \n",
      "---  ------               --------------  ----- \n",
      " 0   title                4738 non-null   object\n",
      " 1   autor                4738 non-null   object\n",
      " 2   doi                  4738 non-null   object\n",
      " 3   citedby_count        4738 non-null   object\n",
      " 4   affilname            4738 non-null   object\n",
      " 5   affiliation-city     4712 non-null   object\n",
      " 6   affiliation-country  4738 non-null   object\n",
      "dtypes: object(7)\n",
      "memory usage: 259.2+ KB\n"
     ]
    }
   ],
   "source": [
    "paper_info.info()\n"
   ]
  },
  {
   "cell_type": "code",
   "execution_count": 13,
   "metadata": {},
   "outputs": [],
   "source": [
    "filepath = 'data/'\n",
    "paper_info.to_csv(filepath+keyword+'.csv',index=False)"
   ]
  },
  {
   "cell_type": "code",
   "execution_count": null,
   "metadata": {},
   "outputs": [],
   "source": [
    "filepath = 'data/'\n",
    "for keyword in keywords:\n",
    "    url = \"https://api.elsevier.com/content/search/scopus\"\n",
    "    paper_info = GetAndTidy(keyword,url = url)\n",
    "    paper_info.to_csv(filepath+keyword+'.csv',index=False)"
   ]
  },
  {
   "cell_type": "code",
   "execution_count": null,
   "metadata": {},
   "outputs": [],
   "source": [
    "web_json = json.loads(result)\n",
    "print(web_json['search-results']['opensearch:totalResults'])\n",
    "epos = int(web_json['search-results']['opensearch:totalResults']) // 25 +1\n"
   ]
  },
  {
   "cell_type": "code",
   "execution_count": null,
   "metadata": {},
   "outputs": [],
   "source": [
    "for i in range(1,epos+1):\n",
    "    start = i*25\n",
    "    url = \"https://api.elsevier.com/content/search/scopus\"\n",
    "    url = QueryEdit(url,keyword,start = start)\n",
    "    print(url)\n",
    "    web = requests.get(url,headers=headers)\n",
    "    print(web.ok)\n",
    "    result = web.text\n",
    "    colnum = ['title','autor','doi','citedby_count','affilname','affiliation-city','affiliation-country']\n",
    "    paper_info_short = pd.DataFrame(columns=colnum)\n",
    "    \n",
    "\n"
   ]
  },
  {
   "cell_type": "code",
   "execution_count": null,
   "metadata": {},
   "outputs": [],
   "source": [
    "f = open('scopus_raw_result.json','w+')\n",
    "json_object = json.dumps(web_json, indent=4)\n",
    "f.write(json_object)\n",
    "f.close()\n"
   ]
  },
  {
   "cell_type": "code",
   "execution_count": null,
   "metadata": {},
   "outputs": [],
   "source": [
    "colnum = ['title','autor','doi','citedby_count','affilname','affiliation-city','affiliation-country']\n",
    "paper_info_short = pd.DataFrame(columns=colnum)"
   ]
  },
  {
   "cell_type": "code",
   "execution_count": null,
   "metadata": {},
   "outputs": [],
   "source": [
    "\n"
   ]
  },
  {
   "cell_type": "code",
   "execution_count": null,
   "metadata": {},
   "outputs": [],
   "source": [
    "paper_info_short = paper_info_short.reset_index(drop=True)\n",
    "   "
   ]
  },
  {
   "cell_type": "code",
   "execution_count": null,
   "metadata": {},
   "outputs": [],
   "source": [
    "101 // 25"
   ]
  },
  {
   "cell_type": "code",
   "execution_count": null,
   "metadata": {},
   "outputs": [],
   "source": [
    "web_json['search-results']['entry'][0]['affiliation']"
   ]
  },
  {
   "cell_type": "code",
   "execution_count": null,
   "metadata": {},
   "outputs": [],
   "source": [
    "aburl = 'https://api.elsevier.com/content/article/doi/10.1016/j.envpol.2022.120034'\n",
    "abstract = requests.get(aburl,headers = headers)"
   ]
  },
  {
   "cell_type": "code",
   "execution_count": null,
   "metadata": {},
   "outputs": [],
   "source": [
    "print(abstract.text)\n",
    "temp = open(\"temp.txt\",'w+')\n",
    "temp.write(abstract.text)\n",
    "temp.close()"
   ]
  },
  {
   "cell_type": "code",
   "execution_count": null,
   "metadata": {},
   "outputs": [],
   "source": [
    "my_dict = xmltodict.parse(abstract.text)\n",
    "my_dict['full-text-retrieval-response']['coredata']['dc:description']"
   ]
  }
 ],
 "metadata": {
  "kernelspec": {
   "display_name": "Python 3.10.4 64-bit",
   "language": "python",
   "name": "python3"
  },
  "language_info": {
   "codemirror_mode": {
    "name": "ipython",
    "version": 3
   },
   "file_extension": ".py",
   "mimetype": "text/x-python",
   "name": "python",
   "nbconvert_exporter": "python",
   "pygments_lexer": "ipython3",
   "version": "3.10.4"
  },
  "orig_nbformat": 4,
  "vscode": {
   "interpreter": {
    "hash": "77b1663d9e8270c5f57c858e0e092054b0efe5a178051a91a604cda764b65918"
   }
  }
 },
 "nbformat": 4,
 "nbformat_minor": 2
}
