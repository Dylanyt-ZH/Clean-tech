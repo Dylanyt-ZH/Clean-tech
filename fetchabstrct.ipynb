{
 "cells": [
  {
   "cell_type": "code",
   "execution_count": 1,
   "metadata": {},
   "outputs": [],
   "source": [
    "import json\n",
    "import pandas as pd\n",
    "import requests\n",
    "import os"
   ]
  },
  {
   "cell_type": "code",
   "execution_count": 3,
   "metadata": {},
   "outputs": [
    {
     "data": {
      "text/plain": [
       "['carbon emissions.csv',\n",
       " 'clean technology.csv',\n",
       " 'clean-energy.csv',\n",
       " 'energy efficient.csv']"
      ]
     },
     "execution_count": 3,
     "metadata": {},
     "output_type": "execute_result"
    }
   ],
   "source": [
    "filepath = 'data/'\n",
    "filelist = os.listdir(filepath)\n",
    "# filelist\n",
    "conf = open('config.json','r') \n",
    "config = json.load(conf)\n",
    "api_key = config['API_key']\n",
    "conf.close()\n",
    "headers=  {'X-ELS-APIKey':api_key}"
   ]
  },
  {
   "cell_type": "code",
   "execution_count": 5,
   "metadata": {},
   "outputs": [],
   "source": [
    "raw_data = pd.read_csv(filepath + filelist[0],header=0)"
   ]
  },
  {
   "cell_type": "code",
   "execution_count": 6,
   "metadata": {},
   "outputs": [
    {
     "data": {
      "text/html": [
       "<div>\n",
       "<style scoped>\n",
       "    .dataframe tbody tr th:only-of-type {\n",
       "        vertical-align: middle;\n",
       "    }\n",
       "\n",
       "    .dataframe tbody tr th {\n",
       "        vertical-align: top;\n",
       "    }\n",
       "\n",
       "    .dataframe thead th {\n",
       "        text-align: right;\n",
       "    }\n",
       "</style>\n",
       "<table border=\"1\" class=\"dataframe\">\n",
       "  <thead>\n",
       "    <tr style=\"text-align: right;\">\n",
       "      <th></th>\n",
       "      <th>title</th>\n",
       "      <th>autor</th>\n",
       "      <th>doi</th>\n",
       "      <th>citedby_count</th>\n",
       "      <th>affilname</th>\n",
       "      <th>affiliation-city</th>\n",
       "      <th>affiliation-country</th>\n",
       "    </tr>\n",
       "  </thead>\n",
       "  <tbody>\n",
       "    <tr>\n",
       "      <th>0</th>\n",
       "      <td>Principles of fluorescence spectroscopy</td>\n",
       "      <td>Lakowicz J.R.</td>\n",
       "      <td>10.1007/978-0-387-46312-4</td>\n",
       "      <td>17323</td>\n",
       "      <td>University of Maryland School of Medicine</td>\n",
       "      <td>Baltimore</td>\n",
       "      <td>United States</td>\n",
       "    </tr>\n",
       "    <tr>\n",
       "      <th>1</th>\n",
       "      <td>Quantum mechanical continuum solvation models</td>\n",
       "      <td>Tomasi J.</td>\n",
       "      <td>10.1021/cr9904009</td>\n",
       "      <td>12153</td>\n",
       "      <td>Università di Pisa</td>\n",
       "      <td>Pisa</td>\n",
       "      <td>Italy</td>\n",
       "    </tr>\n",
       "    <tr>\n",
       "      <th>2</th>\n",
       "      <td>Gold Nanoparticles: Assembly, Supramolecular C...</td>\n",
       "      <td>Daniel M.C.</td>\n",
       "      <td>10.1021/cr030698+</td>\n",
       "      <td>11703</td>\n",
       "      <td>Université de Bordeaux</td>\n",
       "      <td>Bordeaux</td>\n",
       "      <td>France</td>\n",
       "    </tr>\n",
       "    <tr>\n",
       "      <th>3</th>\n",
       "      <td>Electronics and optoelectronics of two-dimensi...</td>\n",
       "      <td>Wang Q.H.</td>\n",
       "      <td>10.1038/nnano.2012.193</td>\n",
       "      <td>11539</td>\n",
       "      <td>Massachusetts Institute of Technology</td>\n",
       "      <td>Cambridge</td>\n",
       "      <td>United States</td>\n",
       "    </tr>\n",
       "    <tr>\n",
       "      <th>4</th>\n",
       "      <td>An overview of CMIP5 and the experiment design</td>\n",
       "      <td>Taylor K.</td>\n",
       "      <td>10.1175/BAMS-D-11-00094.1</td>\n",
       "      <td>9954</td>\n",
       "      <td>Lawrence Livermore National Laboratory</td>\n",
       "      <td>Livermore</td>\n",
       "      <td>United States</td>\n",
       "    </tr>\n",
       "  </tbody>\n",
       "</table>\n",
       "</div>"
      ],
      "text/plain": [
       "                                               title          autor  \\\n",
       "0            Principles of fluorescence spectroscopy  Lakowicz J.R.   \n",
       "1      Quantum mechanical continuum solvation models      Tomasi J.   \n",
       "2  Gold Nanoparticles: Assembly, Supramolecular C...    Daniel M.C.   \n",
       "3  Electronics and optoelectronics of two-dimensi...      Wang Q.H.   \n",
       "4     An overview of CMIP5 and the experiment design      Taylor K.   \n",
       "\n",
       "                         doi  citedby_count  \\\n",
       "0  10.1007/978-0-387-46312-4          17323   \n",
       "1          10.1021/cr9904009          12153   \n",
       "2          10.1021/cr030698+          11703   \n",
       "3     10.1038/nnano.2012.193          11539   \n",
       "4  10.1175/BAMS-D-11-00094.1           9954   \n",
       "\n",
       "                                   affilname affiliation-city  \\\n",
       "0  University of Maryland School of Medicine        Baltimore   \n",
       "1                         Università di Pisa             Pisa   \n",
       "2                     Université de Bordeaux         Bordeaux   \n",
       "3      Massachusetts Institute of Technology        Cambridge   \n",
       "4     Lawrence Livermore National Laboratory        Livermore   \n",
       "\n",
       "  affiliation-country  \n",
       "0       United States  \n",
       "1               Italy  \n",
       "2              France  \n",
       "3       United States  \n",
       "4       United States  "
      ]
     },
     "execution_count": 6,
     "metadata": {},
     "output_type": "execute_result"
    }
   ],
   "source": [
    "raw_data.head()"
   ]
  },
  {
   "cell_type": "code",
   "execution_count": null,
   "metadata": {},
   "outputs": [],
   "source": [
    "doi = raw_data['doi'][0]\n",
    "aburl = 'https://api.elsevier.com/content/article/doi/'+doi\n",
    "abstract = requests.get(aburl,headers = headers)"
   ]
  }
 ],
 "metadata": {
  "kernelspec": {
   "display_name": "Python 3.10.4 64-bit",
   "language": "python",
   "name": "python3"
  },
  "language_info": {
   "codemirror_mode": {
    "name": "ipython",
    "version": 3
   },
   "file_extension": ".py",
   "mimetype": "text/x-python",
   "name": "python",
   "nbconvert_exporter": "python",
   "pygments_lexer": "ipython3",
   "version": "3.10.4"
  },
  "orig_nbformat": 4,
  "vscode": {
   "interpreter": {
    "hash": "77b1663d9e8270c5f57c858e0e092054b0efe5a178051a91a604cda764b65918"
   }
  }
 },
 "nbformat": 4,
 "nbformat_minor": 2
}
