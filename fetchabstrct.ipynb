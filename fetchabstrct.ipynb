{
 "cells": [
  {
   "cell_type": "code",
   "execution_count": null,
   "metadata": {},
   "outputs": [],
   "source": [
    "import json\n",
    "import pandas as pd\n",
    "import requests\n",
    "import os\n",
    "import xmltodict\n",
    "from tqdm import tqdm"
   ]
  },
  {
   "cell_type": "code",
   "execution_count": null,
   "metadata": {},
   "outputs": [],
   "source": [
    "filepath = 'data/'\n",
    "filelist = os.listdir(filepath)\n",
    "# filelist\n",
    "conf = open('config.json','r') \n",
    "config = json.load(conf)\n",
    "api_key = config['API_key']\n",
    "conf.close()\n",
    "headers=  {'X-ELS-APIKey':api_key}"
   ]
  },
  {
   "cell_type": "code",
   "execution_count": null,
   "metadata": {},
   "outputs": [],
   "source": [
    "filelist"
   ]
  },
  {
   "cell_type": "code",
   "execution_count": null,
   "metadata": {},
   "outputs": [],
   "source": [
    "for filename in filelist:\n",
    "    keyword = filename.replace(\".csv\",\"\")\n",
    "    raw_data = pd.read_csv(filepath + filename,header=0)\n",
    "    raw_data[\"abstract\"] = None\n",
    "    raw_data[\"topic\"] = keyword\n",
    "    print(keyword)\n",
    "    for i in tqdm(range(0,len(raw_data))):\n",
    "        doi = raw_data['doi'][i]\n",
    "        aburl = 'https://api.elsevier.com/content/article/doi/'+doi\n",
    "        # print(aburl)\n",
    "        abstract = requests.get(aburl,headers = headers)\n",
    "        try:\n",
    "            d = xmltodict.parse(abstract.text)\n",
    "            abstract_text = d[\"full-text-retrieval-response\"]['coredata']['dc:description']\n",
    "            raw_data.at[i,'abstract'] = abstract_text\n",
    "            pass\n",
    "        except:\n",
    "            continue\n",
    "    select_data = raw_data.dropna()\n",
    "    select_data.to_csv(filepath + keyword + '-selected.csv', encoding='utf-8',index=False)\n",
    "    "
   ]
  },
  {
   "cell_type": "code",
   "execution_count": null,
   "metadata": {},
   "outputs": [],
   "source": [
    "import multiprocessing\n",
    "def getabstract(filename):\n",
    "    keyword = filename.replace(\".csv\",\"\")\n",
    "    raw_data = pd.read_csv(filepath + filename,header=0)\n",
    "    raw_data[\"abstract\"] = None\n",
    "    raw_data[\"topic\"] = keyword\n",
    "    print(keyword)\n",
    "    for i in tqdm(range(0,len(raw_data))):\n",
    "        doi = raw_data['doi'][i]\n",
    "        aburl = 'https://api.elsevier.com/content/article/doi/'+doi\n",
    "        # print(aburl)\n",
    "        abstract = requests.get(aburl,headers = headers)\n",
    "        try:\n",
    "            d = xmltodict.parse(abstract.text)\n",
    "            abstract_text = d[\"full-text-retrieval-response\"]['coredata']['dc:description']\n",
    "            raw_data.at[i,'abstract'] = abstract_text\n",
    "            pass\n",
    "        except:\n",
    "            continue\n",
    "    select_data = raw_data.dropna()\n",
    "    select_data.to_csv(filepath + keyword + '-selected.csv', encoding='utf-8',index=False)\n",
    "\n",
    "pool_obj = multiprocessing.Pool(4)\n",
    "pool_obj.map(getabstract,filelist)\n",
    "    \n",
    "\n"
   ]
  },
  {
   "cell_type": "markdown",
   "metadata": {},
   "source": []
  }
 ],
 "metadata": {
  "kernelspec": {
   "display_name": "Python 3.10.6 64-bit",
   "language": "python",
   "name": "python3"
  },
  "language_info": {
   "codemirror_mode": {
    "name": "ipython",
    "version": 3
   },
   "file_extension": ".py",
   "mimetype": "text/x-python",
   "name": "python",
   "nbconvert_exporter": "python",
   "pygments_lexer": "ipython3",
   "version": "3.10.6 (v3.10.6:9c7b4bd164, Aug  1 2022, 17:13:48) [Clang 13.0.0 (clang-1300.0.29.30)]"
  },
  "orig_nbformat": 4,
  "vscode": {
   "interpreter": {
    "hash": "aee8b7b246df8f9039afb4144a1f6fd8d2ca17a180786b69acc140d282b71a49"
   }
  }
 },
 "nbformat": 4,
 "nbformat_minor": 2
}
