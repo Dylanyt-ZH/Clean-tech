{
 "cells": [
  {
   "cell_type": "code",
   "execution_count": 57,
   "metadata": {},
   "outputs": [],
   "source": [
    "import json\n",
    "import pandas as pd\n",
    "import requests\n",
    "import os\n",
    "import xml.etree.ElementTree as ET\n",
    "import xmltodict\n",
    "import matplotlib.pyplot as plt"
   ]
  },
  {
   "cell_type": "code",
   "execution_count": 2,
   "metadata": {},
   "outputs": [],
   "source": [
    "filepath = 'data/'\n",
    "filelist = os.listdir(filepath)\n",
    "# filelist\n",
    "conf = open('config.json','r') \n",
    "config = json.load(conf)\n",
    "api_key = config['API_key']\n",
    "conf.close()\n",
    "headers=  {'X-ELS-APIKey':api_key}"
   ]
  },
  {
   "cell_type": "code",
   "execution_count": 3,
   "metadata": {},
   "outputs": [
    {
     "data": {
      "text/plain": [
       "['carbon emissions.csv',\n",
       " 'clean technology.csv',\n",
       " 'clean-energy.csv',\n",
       " 'energy efficient.csv',\n",
       " 'geothermal.csv',\n",
       " 'heat recovery.csv']"
      ]
     },
     "execution_count": 3,
     "metadata": {},
     "output_type": "execute_result"
    }
   ],
   "source": [
    "filelist"
   ]
  },
  {
   "cell_type": "code",
   "execution_count": 4,
   "metadata": {},
   "outputs": [],
   "source": [
    "filename = 'geothermal.csv'"
   ]
  },
  {
   "cell_type": "code",
   "execution_count": 5,
   "metadata": {},
   "outputs": [],
   "source": [
    "raw_data = pd.read_csv(filepath + filename,header=0)"
   ]
  },
  {
   "cell_type": "code",
   "execution_count": 50,
   "metadata": {},
   "outputs": [
    {
     "data": {
      "text/html": [
       "<div>\n",
       "<style scoped>\n",
       "    .dataframe tbody tr th:only-of-type {\n",
       "        vertical-align: middle;\n",
       "    }\n",
       "\n",
       "    .dataframe tbody tr th {\n",
       "        vertical-align: top;\n",
       "    }\n",
       "\n",
       "    .dataframe thead th {\n",
       "        text-align: right;\n",
       "    }\n",
       "</style>\n",
       "<table border=\"1\" class=\"dataframe\">\n",
       "  <thead>\n",
       "    <tr style=\"text-align: right;\">\n",
       "      <th></th>\n",
       "      <th>title</th>\n",
       "      <th>autor</th>\n",
       "      <th>doi</th>\n",
       "      <th>citedby_count</th>\n",
       "      <th>affilname</th>\n",
       "      <th>affiliation-city</th>\n",
       "      <th>affiliation-country</th>\n",
       "      <th>abstract</th>\n",
       "    </tr>\n",
       "  </thead>\n",
       "  <tbody>\n",
       "    <tr>\n",
       "      <th>0</th>\n",
       "      <td>Ecological responses to recent climate change</td>\n",
       "      <td>Walther G.</td>\n",
       "      <td>10.1038/416389a</td>\n",
       "      <td>7097</td>\n",
       "      <td>Gottfried Wilhelm Leibniz Universität Hannover</td>\n",
       "      <td>Hannover</td>\n",
       "      <td>Germany</td>\n",
       "      <td>None</td>\n",
       "    </tr>\n",
       "    <tr>\n",
       "      <th>1</th>\n",
       "      <td>Composition of the Continental Crust</td>\n",
       "      <td>Rudnick R.L.</td>\n",
       "      <td>10.1016/B0-08-043751-6/03016-4</td>\n",
       "      <td>6337</td>\n",
       "      <td>University of Maryland, College Park</td>\n",
       "      <td>College Park</td>\n",
       "      <td>United States</td>\n",
       "      <td>None</td>\n",
       "    </tr>\n",
       "    <tr>\n",
       "      <th>2</th>\n",
       "      <td>Convection in porous media</td>\n",
       "      <td>Nield D.A.</td>\n",
       "      <td>10.1007/978-1-4614-5541-7</td>\n",
       "      <td>6284</td>\n",
       "      <td>The University of Auckland</td>\n",
       "      <td>Auckland</td>\n",
       "      <td>New Zealand</td>\n",
       "      <td>None</td>\n",
       "    </tr>\n",
       "    <tr>\n",
       "      <th>3</th>\n",
       "      <td>Opportunities and challenges for a sustainable...</td>\n",
       "      <td>Chu S.</td>\n",
       "      <td>10.1038/nature11475</td>\n",
       "      <td>6268</td>\n",
       "      <td>United States Department of Energy</td>\n",
       "      <td>Washington, D.C.</td>\n",
       "      <td>United States</td>\n",
       "      <td>None</td>\n",
       "    </tr>\n",
       "    <tr>\n",
       "      <th>4</th>\n",
       "      <td>A review of the source, behaviour and distribu...</td>\n",
       "      <td>Smedley P.L.</td>\n",
       "      <td>10.1016/S0883-2927(02)00018-5</td>\n",
       "      <td>5747</td>\n",
       "      <td>British Geological Survey</td>\n",
       "      <td>Nottingham</td>\n",
       "      <td>United Kingdom</td>\n",
       "      <td>None</td>\n",
       "    </tr>\n",
       "  </tbody>\n",
       "</table>\n",
       "</div>"
      ],
      "text/plain": [
       "                                               title         autor  \\\n",
       "0      Ecological responses to recent climate change    Walther G.   \n",
       "1               Composition of the Continental Crust  Rudnick R.L.   \n",
       "2                         Convection in porous media    Nield D.A.   \n",
       "3  Opportunities and challenges for a sustainable...        Chu S.   \n",
       "4  A review of the source, behaviour and distribu...  Smedley P.L.   \n",
       "\n",
       "                              doi  citedby_count  \\\n",
       "0                 10.1038/416389a           7097   \n",
       "1  10.1016/B0-08-043751-6/03016-4           6337   \n",
       "2       10.1007/978-1-4614-5541-7           6284   \n",
       "3             10.1038/nature11475           6268   \n",
       "4   10.1016/S0883-2927(02)00018-5           5747   \n",
       "\n",
       "                                        affilname  affiliation-city  \\\n",
       "0  Gottfried Wilhelm Leibniz Universität Hannover          Hannover   \n",
       "1            University of Maryland, College Park      College Park   \n",
       "2                      The University of Auckland          Auckland   \n",
       "3              United States Department of Energy  Washington, D.C.   \n",
       "4                       British Geological Survey        Nottingham   \n",
       "\n",
       "  affiliation-country abstract  \n",
       "0             Germany     None  \n",
       "1       United States     None  \n",
       "2         New Zealand     None  \n",
       "3       United States     None  \n",
       "4      United Kingdom     None  "
      ]
     },
     "execution_count": 50,
     "metadata": {},
     "output_type": "execute_result"
    }
   ],
   "source": [
    "raw_data.head()\n"
   ]
  },
  {
   "cell_type": "code",
   "execution_count": 48,
   "metadata": {},
   "outputs": [],
   "source": [
    "raw_data[\"abstract\"] = None"
   ]
  },
  {
   "cell_type": "code",
   "execution_count": 52,
   "metadata": {},
   "outputs": [
    {
     "name": "stdout",
     "output_type": "stream",
     "text": [
      "https://api.elsevier.com/content/article/doi/10.1038/416389a\n",
      "https://api.elsevier.com/content/article/doi/10.1016/B0-08-043751-6/03016-4\n"
     ]
    },
    {
     "name": "stderr",
     "output_type": "stream",
     "text": [
      "C:\\Users\\DylanTong\\AppData\\Local\\Temp\\ipykernel_29796\\3210878497.py:10: SettingWithCopyWarning: \n",
      "A value is trying to be set on a copy of a slice from a DataFrame\n",
      "\n",
      "See the caveats in the documentation: https://pandas.pydata.org/pandas-docs/stable/user_guide/indexing.html#returning-a-view-versus-a-copy\n",
      "  raw_data['abstract'][i] = abstract_text\n"
     ]
    },
    {
     "name": "stdout",
     "output_type": "stream",
     "text": [
      "https://api.elsevier.com/content/article/doi/10.1007/978-1-4614-5541-7\n",
      "https://api.elsevier.com/content/article/doi/10.1038/nature11475\n",
      "https://api.elsevier.com/content/article/doi/10.1016/S0883-2927(02)00018-5\n",
      "https://api.elsevier.com/content/article/doi/10.1128/AEM.71.12.8228-8235.2005\n",
      "https://api.elsevier.com/content/article/doi/10.1038/347662a0\n",
      "https://api.elsevier.com/content/article/doi/10.1073/pnas.95.12.6578\n",
      "https://api.elsevier.com/content/article/doi/10.1175/BAMS-D-14-00110.1\n",
      "https://api.elsevier.com/content/article/doi/10.1093/petrology/36.4.891\n",
      "https://api.elsevier.com/content/article/doi/10.2138/am-2000-0416\n",
      "https://api.elsevier.com/content/article/doi/10.1016/j.jhazmat.2007.01.006\n",
      "https://api.elsevier.com/content/article/doi/10.1016/S0009-2541(97)00150-2\n",
      "https://api.elsevier.com/content/article/doi/10.1016/S0039-9140(02)00268-0\n",
      "https://api.elsevier.com/content/article/doi/10.1785/0120000006\n",
      "https://api.elsevier.com/content/article/doi/10.1017/CBO9780511536045\n",
      "https://api.elsevier.com/content/article/doi/10.1016/S0009-2541(99)00092-3\n",
      "https://api.elsevier.com/content/article/doi/10.1002/9781118684986\n",
      "https://api.elsevier.com/content/article/doi/10.1021/cr00094a002\n",
      "https://api.elsevier.com/content/article/doi/10.1016/j.lithos.2004.04.048\n",
      "https://api.elsevier.com/content/article/doi/10.1038/nature02805\n",
      "https://api.elsevier.com/content/article/doi/10.1029/97RG00426\n",
      "https://api.elsevier.com/content/article/doi/10.1088/0034-4885/68/8/R01\n",
      "https://api.elsevier.com/content/article/doi/10.1016/j.rser.2010.11.037\n",
      "https://api.elsevier.com/content/article/doi/10.1016/S1367-9120(01)00069-4\n",
      "https://api.elsevier.com/content/article/doi/10.1007/BF00310910\n",
      "https://api.elsevier.com/content/article/doi/10.1016/0012-821X(80)90116-8\n",
      "https://api.elsevier.com/content/article/doi/10.1119/1.10023\n",
      "https://api.elsevier.com/content/article/doi/10.1109/5.838084\n",
      "https://api.elsevier.com/content/article/doi/10.1017/CBO9780511586477\n",
      "https://api.elsevier.com/content/article/doi/10.1007/BF00372365\n",
      "https://api.elsevier.com/content/article/doi/10.1038/313277a0\n",
      "https://api.elsevier.com/content/article/doi/10.1111/j.1365-246X.2009.04491.x\n",
      "https://api.elsevier.com/content/article/doi/10.1016/0009-2541(93)90140-E\n",
      "https://api.elsevier.com/content/article/doi/10.1038/nature03162\n",
      "https://api.elsevier.com/content/article/doi/10.1029/1998RG000054\n",
      "https://api.elsevier.com/content/article/doi/10.1016/0016-7037(78)90001-7\n",
      "https://api.elsevier.com/content/article/doi/10.1144/gsjgs.133.3.0191\n",
      "https://api.elsevier.com/content/article/doi/10.1016/j.cemconres.2010.12.001\n",
      "https://api.elsevier.com/content/article/doi/10.1088/0266-5611/14/4/001\n",
      "https://api.elsevier.com/content/article/doi/10.1126/science.1225942\n",
      "https://api.elsevier.com/content/article/doi/10.1016/B978-0-08-095975-7.00301-6\n",
      "https://api.elsevier.com/content/article/doi/10.1023/a:1005504031923\n",
      "https://api.elsevier.com/content/article/doi/10.1016/0009-2541(80)90047-9\n",
      "https://api.elsevier.com/content/article/doi/10.1039/c7ee02342a\n",
      "https://api.elsevier.com/content/article/doi/10.1016/S0024-4937(98)00076-0\n",
      "https://api.elsevier.com/content/article/doi/10.1016/S0967-0637(98)00070-3\n",
      "https://api.elsevier.com/content/article/doi/10.1016/j.rser.2014.07.113\n",
      "https://api.elsevier.com/content/article/doi/10.2138/rmg.2008.69.3\n",
      "https://api.elsevier.com/content/article/doi/10.1016/S0169-1368(97)00012-7\n",
      "https://api.elsevier.com/content/article/doi/10.1007/s10346-013-0436-y\n",
      "https://api.elsevier.com/content/article/doi/10.1016/S0012-821X(98)00142-3\n",
      "https://api.elsevier.com/content/article/doi/10.1007/978-3-540-32714-1\n",
      "https://api.elsevier.com/content/article/doi/10.1016/j.epsl.2005.04.033\n",
      "https://api.elsevier.com/content/article/doi/10.18814/epiiugs/1996/v19i4/005\n",
      "https://api.elsevier.com/content/article/doi/10.1016/0016-7037(86)90346-7\n",
      "https://api.elsevier.com/content/article/doi/10.1038/nrd2425\n",
      "https://api.elsevier.com/content/article/doi/10.1093/petrology/25.4.894\n",
      "https://api.elsevier.com/content/article/doi/10.1016/j.rser.2009.06.021\n",
      "https://api.elsevier.com/content/article/doi/10.1007/978-0-387-78341-3\n",
      "https://api.elsevier.com/content/article/doi/10.1128/AEM.01996-06\n",
      "https://api.elsevier.com/content/article/doi/10.1016/j.energy.2014.02.089\n",
      "https://api.elsevier.com/content/article/doi/10.1002/aic.690260304\n",
      "https://api.elsevier.com/content/article/doi/10.1007/b137431\n",
      "https://api.elsevier.com/content/article/doi/10.1038/370519a0\n",
      "https://api.elsevier.com/content/article/doi/10.1016/S0024-4937(98)00085-1\n",
      "https://api.elsevier.com/content/article/doi/10.1093/petrology/egi084\n",
      "https://api.elsevier.com/content/article/doi/10.1016/S0024-4937(98)00024-3\n",
      "https://api.elsevier.com/content/article/doi/10.1128/mmbr.60.4.609-640.1996\n",
      "https://api.elsevier.com/content/article/doi/10.1007/3-540-29359-0\n",
      "https://api.elsevier.com/content/article/doi/10.1152/physrev.00017.2011\n",
      "https://api.elsevier.com/content/article/doi/10.1016/j.epsl.2005.02.019\n",
      "https://api.elsevier.com/content/article/doi/10.1016/0016-7037(88)90143-3\n",
      "https://api.elsevier.com/content/article/doi/10.1016/j.rser.2003.12.007\n",
      "https://api.elsevier.com/content/article/doi/10.1016/j.watres.2007.10.043\n",
      "https://api.elsevier.com/content/article/doi/10.1111/j.1365-246X.1981.tb02662.x\n",
      "https://api.elsevier.com/content/article/doi/10.1029/2005JB004051\n",
      "https://api.elsevier.com/content/article/doi/10.1016/0040-1951(93)90295-U\n",
      "https://api.elsevier.com/content/article/doi/10.1016/j.jhazmat.2013.12.018\n",
      "https://api.elsevier.com/content/article/doi/10.1007-978-1-4020-5583-6\n",
      "https://api.elsevier.com/content/article/doi/10.1016/0012-821X(94)00237-S\n",
      "https://api.elsevier.com/content/article/doi/10.1021/cr000668w\n",
      "https://api.elsevier.com/content/article/doi/10.1038/nature16461\n",
      "https://api.elsevier.com/content/article/doi/10.1016/0012-821X(74)90078-8\n",
      "https://api.elsevier.com/content/article/doi/10.1038/362144a0\n",
      "https://api.elsevier.com/content/article/doi/10.1016/j.earscirev.2005.05.004\n",
      "https://api.elsevier.com/content/article/doi/10.1016/0012-821X(91)90029-H\n",
      "https://api.elsevier.com/content/article/doi/10.1029/2004GL021737\n",
      "https://api.elsevier.com/content/article/doi/10.1016/j.ijhydene.2014.12.035\n",
      "https://api.elsevier.com/content/article/doi/10.1007/s00382-012-1636-1\n",
      "https://api.elsevier.com/content/article/doi/10.1039/b809990c\n",
      "https://api.elsevier.com/content/article/doi/10.1126/science.1081903\n",
      "https://api.elsevier.com/content/article/doi/10.1016/0009-2541(85)90034-8\n",
      "https://api.elsevier.com/content/article/doi/10.1016/j.rser.2010.12.008\n",
      "https://api.elsevier.com/content/article/doi/10.1016/0301-9268(91)90092-O\n",
      "https://api.elsevier.com/content/article/doi/10.1007/BF00283225\n",
      "https://api.elsevier.com/content/article/doi/10.1002/9781118671627\n",
      "https://api.elsevier.com/content/article/doi/10.1016/S0065-2911(04)49005-5\n",
      "https://api.elsevier.com/content/article/doi/10.1016/j.epsl.2010.11.005\n",
      "https://api.elsevier.com/content/article/doi/10.1016/j.rse.2008.11.007\n"
     ]
    }
   ],
   "source": [
    "for i in range(100):\n",
    "    doi = raw_data['doi'][i]\n",
    "    aburl = 'https://api.elsevier.com/content/article/doi/'+doi\n",
    "    print(aburl)\n",
    "    abstract = requests.get(aburl,headers = headers)\n",
    "    try:\n",
    "        d = xmltodict.parse(abstract.text)\n",
    "        # print(d[\"full-text-retrieval-response\"]['coredata']['dc:description'])\n",
    "        abstract_text = d[\"full-text-retrieval-response\"]['coredata']['dc:description']\n",
    "        raw_data['abstract'][i] = abstract_text\n",
    "        pass\n",
    "    except:\n",
    "        continue"
   ]
  },
  {
   "cell_type": "code",
   "execution_count": null,
   "metadata": {},
   "outputs": [],
   "source": []
  },
  {
   "cell_type": "code",
   "execution_count": 86,
   "metadata": {},
   "outputs": [
    {
     "name": "stdout",
     "output_type": "stream",
     "text": [
      "['United States', 'United Kingdom', 'China', 'France', 'Germany', 'Canada', 'Australia', 'Italy', 'Switzerland', 'Japan', 'New Zealand']\n"
     ]
    }
   ],
   "source": [
    "countries = raw_data['affiliation-country'].value_counts()\n",
    "\n",
    "countries = list(countries.index[0:11])\n",
    "print(countries)"
   ]
  },
  {
   "cell_type": "code",
   "execution_count": 87,
   "metadata": {},
   "outputs": [
    {
     "ename": "ValueError",
     "evalue": "The truth value of a Series is ambiguous. Use a.empty, a.bool(), a.item(), a.any() or a.all().",
     "output_type": "error",
     "traceback": [
      "\u001b[1;31m---------------------------------------------------------------------------\u001b[0m",
      "\u001b[1;31mValueError\u001b[0m                                Traceback (most recent call last)",
      "\u001b[1;32mf:\\Study\\Cleantech\\Clean-tech-1\\fetchabstrct.ipynb Cell 11\u001b[0m in \u001b[0;36m<cell line: 1>\u001b[1;34m()\u001b[0m\n\u001b[1;32m----> <a href='vscode-notebook-cell:/f%3A/Study/Cleantech/Clean-tech-1/fetchabstrct.ipynb#X14sZmlsZQ%3D%3D?line=0'>1</a>\u001b[0m selected_data \u001b[39m=\u001b[39m raw_data[raw_data[\u001b[39m'\u001b[39;49m\u001b[39maffiliation-country\u001b[39;49m\u001b[39m'\u001b[39;49m] \u001b[39min\u001b[39;49;00m countries]\n",
      "File \u001b[1;32mc:\\Users\\DylanTong\\AppData\\Local\\Programs\\Python\\Python310\\lib\\site-packages\\pandas\\core\\generic.py:1527\u001b[0m, in \u001b[0;36mNDFrame.__nonzero__\u001b[1;34m(self)\u001b[0m\n\u001b[0;32m   1525\u001b[0m \u001b[39m@final\u001b[39m\n\u001b[0;32m   1526\u001b[0m \u001b[39mdef\u001b[39;00m \u001b[39m__nonzero__\u001b[39m(\u001b[39mself\u001b[39m):\n\u001b[1;32m-> 1527\u001b[0m     \u001b[39mraise\u001b[39;00m \u001b[39mValueError\u001b[39;00m(\n\u001b[0;32m   1528\u001b[0m         \u001b[39mf\u001b[39m\u001b[39m\"\u001b[39m\u001b[39mThe truth value of a \u001b[39m\u001b[39m{\u001b[39;00m\u001b[39mtype\u001b[39m(\u001b[39mself\u001b[39m)\u001b[39m.\u001b[39m\u001b[39m__name__\u001b[39m\u001b[39m}\u001b[39;00m\u001b[39m is ambiguous. \u001b[39m\u001b[39m\"\u001b[39m\n\u001b[0;32m   1529\u001b[0m         \u001b[39m\"\u001b[39m\u001b[39mUse a.empty, a.bool(), a.item(), a.any() or a.all().\u001b[39m\u001b[39m\"\u001b[39m\n\u001b[0;32m   1530\u001b[0m     )\n",
      "\u001b[1;31mValueError\u001b[0m: The truth value of a Series is ambiguous. Use a.empty, a.bool(), a.item(), a.any() or a.all()."
     ]
    }
   ],
   "source": [
    "selected_data = raw_data[raw_data['affiliation-country'] in countries]"
   ]
  },
  {
   "cell_type": "code",
   "execution_count": 91,
   "metadata": {},
   "outputs": [
    {
     "ename": "SyntaxError",
     "evalue": "invalid syntax (3710966229.py, line 1)",
     "output_type": "error",
     "traceback": [
      "\u001b[1;36m  Input \u001b[1;32mIn [91]\u001b[1;36m\u001b[0m\n\u001b[1;33m    raw_data[ if raw_data['affiliation-country']  in countries]\u001b[0m\n\u001b[1;37m              ^\u001b[0m\n\u001b[1;31mSyntaxError\u001b[0m\u001b[1;31m:\u001b[0m invalid syntax\n"
     ]
    }
   ],
   "source": [
    "raw_data[ if raw_data['affiliation-country']  in countries]"
   ]
  }
 ],
 "metadata": {
  "kernelspec": {
   "display_name": "Python 3.10.4 64-bit",
   "language": "python",
   "name": "python3"
  },
  "language_info": {
   "codemirror_mode": {
    "name": "ipython",
    "version": 3
   },
   "file_extension": ".py",
   "mimetype": "text/x-python",
   "name": "python",
   "nbconvert_exporter": "python",
   "pygments_lexer": "ipython3",
   "version": "3.10.4"
  },
  "orig_nbformat": 4,
  "vscode": {
   "interpreter": {
    "hash": "77b1663d9e8270c5f57c858e0e092054b0efe5a178051a91a604cda764b65918"
   }
  }
 },
 "nbformat": 4,
 "nbformat_minor": 2
}
